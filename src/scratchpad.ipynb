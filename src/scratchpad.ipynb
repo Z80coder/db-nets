{
 "cells": [
  {
   "cell_type": "code",
   "execution_count": 2,
   "metadata": {},
   "outputs": [
    {
     "ename": "ImportError",
     "evalue": "cannot import name 'optim' from 'flax' (/opt/conda/lib/python3.10/site-packages/flax/__init__.py)",
     "output_type": "error",
     "traceback": [
      "\u001b[0;31m---------------------------------------------------------------------------\u001b[0m",
      "\u001b[0;31mImportError\u001b[0m                               Traceback (most recent call last)",
      "Cell \u001b[0;32mIn [2], line 8\u001b[0m\n\u001b[1;32m      5\u001b[0m \u001b[39mfrom\u001b[39;00m \u001b[39mjax\u001b[39;00m \u001b[39mimport\u001b[39;00m numpy \u001b[39mas\u001b[39;00m jnp, random, jit, lax\n\u001b[1;32m      7\u001b[0m \u001b[39mimport\u001b[39;00m \u001b[39mflax\u001b[39;00m\n\u001b[0;32m----> 8\u001b[0m \u001b[39mfrom\u001b[39;00m \u001b[39mflax\u001b[39;00m \u001b[39mimport\u001b[39;00m linen \u001b[39mas\u001b[39;00m nn, optim\n\u001b[1;32m     10\u001b[0m \u001b[39m# init jax with some random compute. \u001b[39;00m\n\u001b[1;32m     11\u001b[0m \u001b[39m# JAX might complain about not having access to a GPU or TPU.\u001b[39;00m\n\u001b[1;32m     12\u001b[0m _ \u001b[39m=\u001b[39m jnp\u001b[39m.\u001b[39msquare(\u001b[39m2.\u001b[39m)\n",
      "\u001b[0;31mImportError\u001b[0m: cannot import name 'optim' from 'flax' (/opt/conda/lib/python3.10/site-packages/flax/__init__.py)"
     ]
    }
   ],
   "source": [
    "import numpy as np\n",
    "import matplotlib.pyplot as plt\n",
    "\n",
    "import jax\n",
    "from jax import numpy as jnp, random, jit, lax\n",
    "\n",
    "import flax\n",
    "from flax import linen as nn\n",
    "\n",
    "# init jax with some random compute. \n",
    "# JAX might complain about not having access to a GPU or TPU.\n",
    "_ = jnp.square(2.)\n",
    "from jax import grad, jit, vmap\n",
    "from jax import random"
   ]
  }
 ],
 "metadata": {
  "kernelspec": {
   "display_name": "Python 3.10.6 ('base')",
   "language": "python",
   "name": "python3"
  },
  "language_info": {
   "codemirror_mode": {
    "name": "ipython",
    "version": 3
   },
   "file_extension": ".py",
   "mimetype": "text/x-python",
   "name": "python",
   "nbconvert_exporter": "python",
   "pygments_lexer": "ipython3",
   "version": "3.10.6"
  },
  "orig_nbformat": 4,
  "vscode": {
   "interpreter": {
    "hash": "d4d1e4263499bec80672ea0156c357c1ee493ec2b1c70f0acce89fc37c4a6abe"
   }
  }
 },
 "nbformat": 4,
 "nbformat_minor": 2
}
