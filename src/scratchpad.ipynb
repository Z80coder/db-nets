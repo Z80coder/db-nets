{
 "cells": [
  {
   "cell_type": "code",
   "execution_count": 11,
   "metadata": {},
   "outputs": [],
   "source": [
    "import os\n",
    "import time\n",
    "import requests\n",
    "\n",
    "import jax\n",
    "import jax.numpy as jnp\n",
    "from jax import jit, grad, random\n",
    "\n",
    "from jax.config import config\n",
    "%config IPCompleter.use_jedi = False"
   ]
  },
  {
   "cell_type": "code",
   "execution_count": 12,
   "metadata": {},
   "outputs": [],
   "source": [
    "def apply_activation(x):\n",
    "    return jnp.maximum(0.0, x)\n",
    "\n",
    "def get_dot_product(W, X):\n",
    "    return jnp.dot(W, X)"
   ]
  },
  {
   "cell_type": "code",
   "execution_count": 13,
   "metadata": {},
   "outputs": [],
   "source": [
    "# Always use a seed\n",
    "key = random.PRNGKey(1234)\n",
    "W = random.normal(key=key, shape=[1000, 10000], dtype=jnp.float32)\n",
    "\n",
    "# Never reuse the key\n",
    "key, subkey = random.split(key)\n",
    "X = random.normal(key=subkey, shape=[10000, 20000], dtype=jnp.float32)"
   ]
  },
  {
   "cell_type": "code",
   "execution_count": 14,
   "metadata": {},
   "outputs": [],
   "source": [
    "# JIT the functions we have\n",
    "dot_product_jit  = jit(get_dot_product)\n",
    "activation_jit = jit(apply_activation)"
   ]
  },
  {
   "cell_type": "code",
   "execution_count": 15,
   "metadata": {},
   "outputs": [
    {
     "name": "stdout",
     "output_type": "stream",
     "text": [
      "Iteration: 1\n",
      "Time taken to execute dot product: 0.23 seconds, activation function: 0.03 seconds\n",
      "Iteration: 2\n",
      "Time taken to execute dot product: 0.23 seconds, activation function: 0.01 seconds\n",
      "Iteration: 3\n",
      "Time taken to execute dot product: 0.22 seconds, activation function: 0.01 seconds\n"
     ]
    }
   ],
   "source": [
    "for i in range(3):\n",
    "    start = time.time()\n",
    "    # Don't forget to use `block_until_ready(..)`\n",
    "    # else you will be recording dispatch time only\n",
    "    Z = dot_product_jit(W, X).block_until_ready()\n",
    "    end = time.time()\n",
    "    print(f\"Iteration: {i+1}\")\n",
    "    print(f\"Time taken to execute dot product: {end - start:.2f} seconds\", end=\"\")\n",
    "    \n",
    "    start = time.time()\n",
    "    A = activation_jit(Z).block_until_ready()\n",
    "    print(f\", activation function: {time.time()-start:.2f} seconds\")"
   ]
  },
  {
   "cell_type": "code",
   "execution_count": 16,
   "metadata": {},
   "outputs": [
    {
     "name": "stdout",
     "output_type": "stream",
     "text": [
      "{ \u001b[34m\u001b[22m\u001b[1mlambda \u001b[39m\u001b[22m\u001b[22m; a\u001b[35m:f32[1000,20000]\u001b[39m. \u001b[34m\u001b[22m\u001b[1mlet\n",
      "    \u001b[39m\u001b[22m\u001b[22mb\u001b[35m:f32[1000,20000]\u001b[39m = xla_call[\n",
      "      call_jaxpr={ \u001b[34m\u001b[22m\u001b[1mlambda \u001b[39m\u001b[22m\u001b[22m; c\u001b[35m:f32[1000,20000]\u001b[39m. \u001b[34m\u001b[22m\u001b[1mlet\n",
      "          \u001b[39m\u001b[22m\u001b[22md\u001b[35m:f32[1000,20000]\u001b[39m = max 0.0 c\n",
      "        \u001b[34m\u001b[22m\u001b[1min \u001b[39m\u001b[22m\u001b[22m(d,) }\n",
      "      name=apply_activation\n",
      "    ] a\n",
      "  \u001b[34m\u001b[22m\u001b[1min \u001b[39m\u001b[22m\u001b[22m(b,) }\n"
     ]
    }
   ],
   "source": [
    "# Make jaxpr for the activation function\n",
    "print(jax.make_jaxpr(activation_jit)(Z))"
   ]
  }
 ],
 "metadata": {
  "kernelspec": {
   "display_name": "Python 3.10.6 ('base')",
   "language": "python",
   "name": "python3"
  },
  "language_info": {
   "codemirror_mode": {
    "name": "ipython",
    "version": 3
   },
   "file_extension": ".py",
   "mimetype": "text/x-python",
   "name": "python",
   "nbconvert_exporter": "python",
   "pygments_lexer": "ipython3",
   "version": "3.10.6"
  },
  "orig_nbformat": 4,
  "vscode": {
   "interpreter": {
    "hash": "d4d1e4263499bec80672ea0156c357c1ee493ec2b1c70f0acce89fc37c4a6abe"
   }
  }
 },
 "nbformat": 4,
 "nbformat_minor": 2
}
