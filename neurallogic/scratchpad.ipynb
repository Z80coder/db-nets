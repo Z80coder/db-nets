{
 "cells": [
  {
   "cell_type": "code",
   "execution_count": 2,
   "metadata": {},
   "outputs": [],
   "source": [
    "import jax\n",
    "import jax.numpy as jnp\n",
    "from jax import random\n",
    "import hard_not\n",
    "from flax import linen as nn"
   ]
  },
  {
   "cell_type": "code",
   "execution_count": 8,
   "metadata": {},
   "outputs": [
    {
     "data": {
      "text/plain": [
       "[0.0, 0.0, 1.0, 1.0]"
      ]
     },
     "execution_count": 8,
     "metadata": {},
     "output_type": "execute_result"
    }
   ],
   "source": [
    "def hard_not(w, x):\n",
    "    return 1.0 - w + x * (2.0 * w - 1.0)\n",
    "\n",
    "[hard_not(0.0, 1.0), hard_not(1.0, 0.0), hard_not(0.0, 0.0), hard_not(1.0, 1.0)]"
   ]
  },
  {
   "cell_type": "code",
   "execution_count": 11,
   "metadata": {},
   "outputs": [
    {
     "data": {
      "text/plain": [
       "DeviceArray([0., 0., 1., 1.], dtype=float32)"
      ]
     },
     "execution_count": 11,
     "metadata": {},
     "output_type": "execute_result"
    }
   ],
   "source": [
    "hard_not_neuron = jax.vmap(hard_not, 0, 0)\n",
    "\n",
    "hard_not_neuron(jnp.array([0.0, 1.0, 0.0, 1.0]), jnp.array([1.0, 0.0, 0.0, 1.0]))"
   ]
  },
  {
   "cell_type": "code",
   "execution_count": 25,
   "metadata": {},
   "outputs": [
    {
     "data": {
      "text/plain": [
       "DeviceArray([[0., 0., 1., 1.],\n",
       "             [0., 0., 1., 1.]], dtype=float32)"
      ]
     },
     "execution_count": 25,
     "metadata": {},
     "output_type": "execute_result"
    }
   ],
   "source": [
    "hard_not_layer = jax.vmap(hard_not_neuron, (0, None), 0)\n",
    "\n",
    "hard_not_layer(jnp.array([[1.0, 0.0, 0.0, 1.0], [0.0, 1.0, 1.0, 0.0]]), jnp.array([0.0, 1.0, 0.0, 1.0]))"
   ]
  },
  {
   "cell_type": "code",
   "execution_count": null,
   "metadata": {},
   "outputs": [],
   "source": []
  },
  {
   "cell_type": "code",
   "execution_count": 7,
   "metadata": {},
   "outputs": [],
   "source": [
    "from typing import (Any, Callable, Iterable, List, Optional, Sequence, Tuple,\n",
    "                    Union)"
   ]
  },
  {
   "cell_type": "code",
   "execution_count": 54,
   "metadata": {},
   "outputs": [],
   "source": [
    "PRNGKey = Any\n",
    "Shape = Tuple[int, ...]\n",
    "Dtype = Any\n",
    "Array = Any\n",
    "\n",
    "class HardNeuralNOT(nn.Module):\n",
    "    \"\"\"A Not layer than transforms its inputs along the last dimension.\n",
    "\n",
    "    Attributes:\n",
    "        kernel_init: initializer function for the weight matrix.\n",
    "        dtype: the dtype of the computation (default: infer from input and params).\n",
    "        param_dtype: the dtype passed to parameter initializers (default: float32).\n",
    "    \"\"\"\n",
    "    layer_size: int\n",
    "    dtype: Optional[Dtype] = None\n",
    "    param_dtype: Dtype = jnp.float32\n",
    "    kernel_init: Callable[[PRNGKey, Shape, Dtype], Array] = nn.initializers.lecun_normal()\n",
    "\n",
    "    @nn.compact\n",
    "    def __call__(self, x: Array) -> Array:\n",
    "        kernel = self.param('kernel',\n",
    "                        self.kernel_init,\n",
    "                        (self.layer_size, jnp.shape(x)[-1]),\n",
    "                        self.param_dtype)\n",
    "        threaded_differentiable_hard_not = jax.vmap(hard_not.differentiable_hard_not, in_axes=1, out_axes=0)\n",
    "        return threaded_differentiable_hard_not(x, kernel)\n",
    "    "
   ]
  },
  {
   "cell_type": "code",
   "execution_count": 55,
   "metadata": {},
   "outputs": [],
   "source": [
    "hnn = HardNeuralNOT(layer_size=4)"
   ]
  },
  {
   "cell_type": "code",
   "execution_count": 56,
   "metadata": {},
   "outputs": [
    {
     "name": "stdout",
     "output_type": "stream",
     "text": [
      "[[1. 1.]]\n"
     ]
    }
   ],
   "source": [
    "x = jax.numpy.ones((1, 2))\n",
    "print(x)"
   ]
  },
  {
   "cell_type": "code",
   "execution_count": 59,
   "metadata": {},
   "outputs": [
    {
     "name": "stdout",
     "output_type": "stream",
     "text": [
      "FrozenDict({\n",
      "    params: {\n",
      "        kernel: DeviceArray([[-0.34059498,  0.59856474],\n",
      "                     [-0.07577372, -0.91646206],\n",
      "                     [ 0.15280248,  0.2605774 ],\n",
      "                     [ 0.71123385, -0.7111998 ]], dtype=float32),\n",
      "    },\n",
      "})\n"
     ]
    }
   ],
   "source": [
    "weights = hnn.init(random.PRNGKey(0), x)\n",
    "print(weights)"
   ]
  },
  {
   "cell_type": "code",
   "execution_count": 60,
   "metadata": {},
   "outputs": [
    {
     "name": "stdout",
     "output_type": "stream",
     "text": [
      "[DeviceArray([-0.340595  ,  0.59856474], dtype=float32)]\n"
     ]
    }
   ],
   "source": [
    "y = hnn.apply(weights, x)\n",
    "print(y)"
   ]
  }
 ],
 "metadata": {
  "kernelspec": {
   "display_name": "Python 3.10.6 ('base')",
   "language": "python",
   "name": "python3"
  },
  "language_info": {
   "codemirror_mode": {
    "name": "ipython",
    "version": 3
   },
   "file_extension": ".py",
   "mimetype": "text/x-python",
   "name": "python",
   "nbconvert_exporter": "python",
   "pygments_lexer": "ipython3",
   "version": "3.10.6"
  },
  "orig_nbformat": 4,
  "vscode": {
   "interpreter": {
    "hash": "d4d1e4263499bec80672ea0156c357c1ee493ec2b1c70f0acce89fc37c4a6abe"
   }
  }
 },
 "nbformat": 4,
 "nbformat_minor": 2
}
