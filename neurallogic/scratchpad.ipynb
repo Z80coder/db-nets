{
 "cells": [
  {
   "cell_type": "code",
   "execution_count": 1,
   "metadata": {},
   "outputs": [],
   "source": [
    "import jax\n",
    "import flax\n",
    "import hard_not\n",
    "import harden\n",
    "from neural_logic_net import net\n",
    "from flax import linen as nn"
   ]
  },
  {
   "cell_type": "code",
   "execution_count": 2,
   "metadata": {},
   "outputs": [],
   "source": [
    "def flat_net(type, x):\n",
    "    x = hard_not.NotLayer(4, type)(x)\n",
    "    x = jax.numpy.ravel(x)\n",
    "    x = hard_not.NotLayer(2, type)(x)\n",
    "    x = jax.numpy.ravel(x)\n",
    "    return x"
   ]
  },
  {
   "cell_type": "code",
   "execution_count": 3,
   "metadata": {},
   "outputs": [
    {
     "name": "stderr",
     "output_type": "stream",
     "text": [
      "WARNING:absl:No GPU/TPU found, falling back to CPU. (Set TF_CPP_MIN_LOG_LEVEL=0 and rerun for more info.)\n"
     ]
    },
    {
     "data": {
      "text/plain": [
       "[DeviceArray([0.6086034 , 0.6149514 , 0.4302339 , 0.52054036, 0.42565924,\n",
       "              0.24999934, 0.47866103, 0.80065006, 0.3717416 , 0.44786048,\n",
       "              0.6312092 , 0.5388671 , 0.57129586, 0.37494463, 0.3600074 ,\n",
       "              0.26647925], dtype=float32),\n",
       " DeviceArray([ True,  True, False,  True, False, False, False,  True,\n",
       "              False, False,  True,  True,  True, False, False, False],            dtype=bool)]"
      ]
     },
     "execution_count": 3,
     "metadata": {},
     "output_type": "execute_result"
    }
   ],
   "source": [
    "soft_net, hard_net = net(flat_net)\n",
    "soft_weights = soft_net.init(jax.random.PRNGKey(0), [1.0, 1.0])\n",
    "hard_weights = harden.hard_weights(soft_weights)\n",
    "[\n",
    "    soft_net.apply(soft_weights, [1.0, 1.0]),\n",
    "    hard_net.apply(hard_weights, [True, True])\n",
    "]"
   ]
  }
 ],
 "metadata": {
  "kernelspec": {
   "display_name": "Python 3.10.6 ('base')",
   "language": "python",
   "name": "python3"
  },
  "language_info": {
   "codemirror_mode": {
    "name": "ipython",
    "version": 3
   },
   "file_extension": ".py",
   "mimetype": "text/x-python",
   "name": "python",
   "nbconvert_exporter": "python",
   "pygments_lexer": "ipython3",
   "version": "3.10.6"
  },
  "orig_nbformat": 4,
  "vscode": {
   "interpreter": {
    "hash": "d4d1e4263499bec80672ea0156c357c1ee493ec2b1c70f0acce89fc37c4a6abe"
   }
  }
 },
 "nbformat": 4,
 "nbformat_minor": 2
}
