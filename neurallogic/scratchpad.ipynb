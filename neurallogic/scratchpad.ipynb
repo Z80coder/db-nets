{
 "cells": [
  {
   "cell_type": "code",
   "execution_count": 1,
   "metadata": {},
   "outputs": [],
   "source": [
    "import jax\n",
    "import flax\n",
    "import hard_not\n",
    "import harden\n"
   ]
  },
  {
   "cell_type": "code",
   "execution_count": 3,
   "metadata": {},
   "outputs": [
    {
     "data": {
      "text/plain": [
       "[DeviceArray([[0.26377404, 0.8707025 ],\n",
       "              [0.44444847, 0.03216302],\n",
       "              [0.6110164 , 0.685097  ],\n",
       "              [0.9133855 , 0.08662593]], dtype=float32),\n",
       " DeviceArray([[False,  True],\n",
       "              [False, False],\n",
       "              [ True,  True],\n",
       "              [ True, False]], dtype=bool),\n",
       " '[[not(True ^ False), not(True ^ True)], [not(True ^ False), not(True ^ False)], [not(True ^ True), not(True ^ True)], [not(True ^ True), not(True ^ False)]]',\n",
       " [[False, True], [False, False], [True, True], [True, False]]]"
      ]
     },
     "execution_count": 3,
     "metadata": {},
     "output_type": "execute_result"
    }
   ],
   "source": [
    "soft_net, hard_net, symbolic_net = hard_not.NotLayer(layer_size=4)\n",
    "soft_weights = soft_net.init(jax.random.PRNGKey(0), [1.0, 1.0])\n",
    "hard_weights = harden.harden_dict(soft_weights)\n",
    "[\n",
    "    soft_net.apply(soft_weights, [1.0, 1.0]),\n",
    "    hard_net.apply(hard_weights, [True, True]),\n",
    "    symbolic_net.apply(hard_weights, ['x1', 'x2']),\n",
    "    eval(symbolic_net.apply(hard_weights, [True, True])),\n",
    "]"
   ]
  }
 ],
 "metadata": {
  "kernelspec": {
   "display_name": "Python 3.10.6 ('base')",
   "language": "python",
   "name": "python3"
  },
  "language_info": {
   "codemirror_mode": {
    "name": "ipython",
    "version": 3
   },
   "file_extension": ".py",
   "mimetype": "text/x-python",
   "name": "python",
   "nbconvert_exporter": "python",
   "pygments_lexer": "ipython3",
   "version": "3.10.6"
  },
  "orig_nbformat": 4,
  "vscode": {
   "interpreter": {
    "hash": "d4d1e4263499bec80672ea0156c357c1ee493ec2b1c70f0acce89fc37c4a6abe"
   }
  }
 },
 "nbformat": 4,
 "nbformat_minor": 2
}
