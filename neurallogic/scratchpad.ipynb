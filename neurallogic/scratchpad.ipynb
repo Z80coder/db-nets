{
 "cells": [
  {
   "cell_type": "code",
   "execution_count": 2,
   "metadata": {},
   "outputs": [],
   "source": [
    "import jax\n",
    "import jax.numpy as jnp\n",
    "from jax import random\n",
    "from flax import linen as nn\n",
    "import hard_not\n",
    "import harden"
   ]
  },
  {
   "cell_type": "code",
   "execution_count": 8,
   "metadata": {},
   "outputs": [
    {
     "ename": "TypeError",
     "evalue": "clip requires ndarray or scalar arguments, got <class 'list'> at position 0.",
     "output_type": "error",
     "traceback": [
      "\u001b[0;31m---------------------------------------------------------------------------\u001b[0m",
      "\u001b[0;31mTypeError\u001b[0m                                 Traceback (most recent call last)",
      "Cell \u001b[0;32mIn [8], line 4\u001b[0m\n\u001b[1;32m      1\u001b[0m [\n\u001b[1;32m      2\u001b[0m     jax\u001b[39m.\u001b[39mnumpy\u001b[39m.\u001b[39mclip(\u001b[39m1.1\u001b[39m, \u001b[39m0.0\u001b[39m, \u001b[39m1.0\u001b[39m),\n\u001b[1;32m      3\u001b[0m     jax\u001b[39m.\u001b[39mnumpy\u001b[39m.\u001b[39mclip(\u001b[39m-\u001b[39m\u001b[39m0.1\u001b[39m, \u001b[39m0.0\u001b[39m, \u001b[39m1.0\u001b[39m),\n\u001b[0;32m----> 4\u001b[0m     jax\u001b[39m.\u001b[39;49mnumpy\u001b[39m.\u001b[39;49mclip([\u001b[39m1.1\u001b[39;49m, \u001b[39m1.1\u001b[39;49m], [\u001b[39m0.0\u001b[39;49m, \u001b[39m1.0\u001b[39;49m])\n\u001b[1;32m      5\u001b[0m ]\n",
      "    \u001b[0;31m[... skipping hidden 14 frame]\u001b[0m\n",
      "File \u001b[0;32m/opt/conda/lib/python3.10/site-packages/jax/_src/numpy/lax_numpy.py:1153\u001b[0m, in \u001b[0;36mclip\u001b[0;34m(a, a_min, a_max, out)\u001b[0m\n\u001b[1;32m   1150\u001b[0m \u001b[39m@_wraps\u001b[39m(np\u001b[39m.\u001b[39mclip, skip_params\u001b[39m=\u001b[39m[\u001b[39m'\u001b[39m\u001b[39mout\u001b[39m\u001b[39m'\u001b[39m])\n\u001b[1;32m   1151\u001b[0m \u001b[39m@jit\u001b[39m\n\u001b[1;32m   1152\u001b[0m \u001b[39mdef\u001b[39;00m \u001b[39mclip\u001b[39m(a, a_min\u001b[39m=\u001b[39m\u001b[39mNone\u001b[39;00m, a_max\u001b[39m=\u001b[39m\u001b[39mNone\u001b[39;00m, out\u001b[39m=\u001b[39m\u001b[39mNone\u001b[39;00m):\n\u001b[0;32m-> 1153\u001b[0m   _check_arraylike(\u001b[39m\"\u001b[39;49m\u001b[39mclip\u001b[39;49m\u001b[39m\"\u001b[39;49m, a)\n\u001b[1;32m   1154\u001b[0m   \u001b[39mif\u001b[39;00m out \u001b[39mis\u001b[39;00m \u001b[39mnot\u001b[39;00m \u001b[39mNone\u001b[39;00m:\n\u001b[1;32m   1155\u001b[0m     \u001b[39mraise\u001b[39;00m \u001b[39mNotImplementedError\u001b[39;00m(\u001b[39m\"\u001b[39m\u001b[39mThe \u001b[39m\u001b[39m'\u001b[39m\u001b[39mout\u001b[39m\u001b[39m'\u001b[39m\u001b[39m argument to jnp.clip is not supported.\u001b[39m\u001b[39m\"\u001b[39m)\n",
      "File \u001b[0;32m/opt/conda/lib/python3.10/site-packages/jax/_src/numpy/util.py:336\u001b[0m, in \u001b[0;36m_check_arraylike\u001b[0;34m(fun_name, *args)\u001b[0m\n\u001b[1;32m    333\u001b[0m pos, arg \u001b[39m=\u001b[39m \u001b[39mnext\u001b[39m((i, arg) \u001b[39mfor\u001b[39;00m i, arg \u001b[39min\u001b[39;00m \u001b[39menumerate\u001b[39m(args)\n\u001b[1;32m    334\u001b[0m                 \u001b[39mif\u001b[39;00m \u001b[39mnot\u001b[39;00m _arraylike(arg))\n\u001b[1;32m    335\u001b[0m msg \u001b[39m=\u001b[39m \u001b[39m\"\u001b[39m\u001b[39m{}\u001b[39;00m\u001b[39m requires ndarray or scalar arguments, got \u001b[39m\u001b[39m{}\u001b[39;00m\u001b[39m at position \u001b[39m\u001b[39m{}\u001b[39;00m\u001b[39m.\u001b[39m\u001b[39m\"\u001b[39m\n\u001b[0;32m--> 336\u001b[0m \u001b[39mraise\u001b[39;00m \u001b[39mTypeError\u001b[39;00m(msg\u001b[39m.\u001b[39mformat(fun_name, \u001b[39mtype\u001b[39m(arg), pos))\n",
      "\u001b[0;31mTypeError\u001b[0m: clip requires ndarray or scalar arguments, got <class 'list'> at position 0."
     ]
    }
   ],
   "source": [
    "[\n",
    "    jax.numpy.clip(1.1, 0.0, 1.0),\n",
    "    jax.numpy.clip(-0.1, 0.0, 1.0)\n",
    "]"
   ]
  },
  {
   "cell_type": "code",
   "execution_count": 7,
   "metadata": {},
   "outputs": [],
   "source": [
    "from typing import (Any, Callable, Iterable, List, Optional, Sequence, Tuple,\n",
    "                    Union)"
   ]
  },
  {
   "cell_type": "code",
   "execution_count": 54,
   "metadata": {},
   "outputs": [],
   "source": [
    "PRNGKey = Any\n",
    "Shape = Tuple[int, ...]\n",
    "Dtype = Any\n",
    "Array = Any\n",
    "\n",
    "class HardNeuralNOT(nn.Module):\n",
    "    \"\"\"A Not layer than transforms its inputs along the last dimension.\n",
    "\n",
    "    Attributes:\n",
    "        kernel_init: initializer function for the weight matrix.\n",
    "        dtype: the dtype of the computation (default: infer from input and params).\n",
    "        param_dtype: the dtype passed to parameter initializers (default: float32).\n",
    "    \"\"\"\n",
    "    layer_size: int\n",
    "    dtype: Optional[Dtype] = None\n",
    "    param_dtype: Dtype = jnp.float32\n",
    "    kernel_init: Callable[[PRNGKey, Shape, Dtype], Array] = nn.initializers.lecun_normal()\n",
    "\n",
    "    @nn.compact\n",
    "    def __call__(self, x: Array) -> Array:\n",
    "        kernel = self.param('kernel',\n",
    "                        self.kernel_init,\n",
    "                        (self.layer_size, jnp.shape(x)[-1]),\n",
    "                        self.param_dtype)\n",
    "        threaded_differentiable_hard_not = jax.vmap(hard_not.differentiable_hard_not, in_axes=1, out_axes=0)\n",
    "        return threaded_differentiable_hard_not(x, kernel)\n",
    "    "
   ]
  },
  {
   "cell_type": "code",
   "execution_count": 55,
   "metadata": {},
   "outputs": [],
   "source": [
    "hnn = HardNeuralNOT(layer_size=4)"
   ]
  },
  {
   "cell_type": "code",
   "execution_count": 56,
   "metadata": {},
   "outputs": [
    {
     "name": "stdout",
     "output_type": "stream",
     "text": [
      "[[1. 1.]]\n"
     ]
    }
   ],
   "source": [
    "x = jax.numpy.ones((1, 2))\n",
    "print(x)"
   ]
  },
  {
   "cell_type": "code",
   "execution_count": 59,
   "metadata": {},
   "outputs": [
    {
     "name": "stdout",
     "output_type": "stream",
     "text": [
      "FrozenDict({\n",
      "    params: {\n",
      "        kernel: DeviceArray([[-0.34059498,  0.59856474],\n",
      "                     [-0.07577372, -0.91646206],\n",
      "                     [ 0.15280248,  0.2605774 ],\n",
      "                     [ 0.71123385, -0.7111998 ]], dtype=float32),\n",
      "    },\n",
      "})\n"
     ]
    }
   ],
   "source": [
    "weights = hnn.init(random.PRNGKey(0), x)\n",
    "print(weights)"
   ]
  },
  {
   "cell_type": "code",
   "execution_count": 60,
   "metadata": {},
   "outputs": [
    {
     "name": "stdout",
     "output_type": "stream",
     "text": [
      "[DeviceArray([-0.340595  ,  0.59856474], dtype=float32)]\n"
     ]
    }
   ],
   "source": [
    "y = hnn.apply(weights, x)\n",
    "print(y)"
   ]
  }
 ],
 "metadata": {
  "kernelspec": {
   "display_name": "Python 3.10.6 ('base')",
   "language": "python",
   "name": "python3"
  },
  "language_info": {
   "codemirror_mode": {
    "name": "ipython",
    "version": 3
   },
   "file_extension": ".py",
   "mimetype": "text/x-python",
   "name": "python",
   "nbconvert_exporter": "python",
   "pygments_lexer": "ipython3",
   "version": "3.10.6"
  },
  "orig_nbformat": 4,
  "vscode": {
   "interpreter": {
    "hash": "d4d1e4263499bec80672ea0156c357c1ee493ec2b1c70f0acce89fc37c4a6abe"
   }
  }
 },
 "nbformat": 4,
 "nbformat_minor": 2
}
