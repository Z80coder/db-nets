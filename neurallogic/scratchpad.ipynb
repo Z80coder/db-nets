{
 "cells": [
  {
   "cell_type": "code",
   "execution_count": 2,
   "metadata": {},
   "outputs": [],
   "source": [
    "import jax\n",
    "import flax\n",
    "import hard_not\n",
    "import harden\n"
   ]
  },
  {
   "cell_type": "code",
   "execution_count": 7,
   "metadata": {},
   "outputs": [
    {
     "data": {
      "text/plain": [
       "[DeviceArray([[0.26377404, 0.8707025 ],\n",
       "              [0.44444847, 0.03216302],\n",
       "              [0.6110164 , 0.685097  ],\n",
       "              [0.9133855 , 0.08662593]], dtype=float32),\n",
       " DeviceArray([[False,  True],\n",
       "              [False, False],\n",
       "              [ True,  True],\n",
       "              [ True, False]], dtype=bool)]"
      ]
     },
     "execution_count": 7,
     "metadata": {},
     "output_type": "execute_result"
    }
   ],
   "source": [
    "soft_not, hard_not = hard_not.NotLayer(layer_size=4)\n",
    "soft_weights = soft_not.init(jax.random.PRNGKey(0), [1.0, 1.0])\n",
    "hard_weights = harden.harden_dict(soft_weights)\n",
    "[\n",
    "    soft_not.apply(soft_weights, [1.0, 1.0]),\n",
    "    hard_not.apply(hard_weights, [True, True])\n",
    "]"
   ]
  },
  {
   "cell_type": "code",
   "execution_count": 17,
   "metadata": {},
   "outputs": [],
   "source": [
    "closed_soft_jax_expr = jax.make_jaxpr(soft_not.apply)(soft_weights, jax.numpy.array([1.0, 1.0]))\n",
    "closed_hard_jax_expr = jax.make_jaxpr(hard_not.apply)(hard_weights, jax.numpy.array([True, True]))"
   ]
  },
  {
   "cell_type": "code",
   "execution_count": 18,
   "metadata": {},
   "outputs": [
    {
     "name": "stdout",
     "output_type": "stream",
     "text": [
      "{ \u001b[34m\u001b[22m\u001b[1mlambda \u001b[39m\u001b[22m\u001b[22m; a\u001b[35m:f32[4,2]\u001b[39m b\u001b[35m:f32[2]\u001b[39m. \u001b[34m\u001b[22m\u001b[1mlet\n",
      "    \u001b[39m\u001b[22m\u001b[22mc\u001b[35m:f32[4,2]\u001b[39m = xla_call[\n",
      "      call_jaxpr={ \u001b[34m\u001b[22m\u001b[1mlambda \u001b[39m\u001b[22m\u001b[22m; d\u001b[35m:f32[4,2]\u001b[39m e\u001b[35m:f32[]\u001b[39m f\u001b[35m:f32[]\u001b[39m. \u001b[34m\u001b[22m\u001b[1mlet\n",
      "          \u001b[39m\u001b[22m\u001b[22mg\u001b[35m:f32[]\u001b[39m = convert_element_type[new_dtype=float32 weak_type=False] e\n",
      "          h\u001b[35m:f32[4,2]\u001b[39m = max g d\n",
      "          i\u001b[35m:f32[]\u001b[39m = convert_element_type[new_dtype=float32 weak_type=False] f\n",
      "          j\u001b[35m:f32[4,2]\u001b[39m = min i h\n",
      "        \u001b[34m\u001b[22m\u001b[1min \u001b[39m\u001b[22m\u001b[22m(j,) }\n",
      "      name=clip\n",
      "    ] a 0.0 1.0\n",
      "    k\u001b[35m:f32[4,2]\u001b[39m = sub 1.0 c\n",
      "    l\u001b[35m:f32[4,2]\u001b[39m = mul 2.0 c\n",
      "    m\u001b[35m:f32[4,2]\u001b[39m = sub l 1.0\n",
      "    n\u001b[35m:f32[1,2]\u001b[39m = broadcast_in_dim[broadcast_dimensions=(1,) shape=(1, 2)] b\n",
      "    o\u001b[35m:f32[4,2]\u001b[39m = mul n m\n",
      "    p\u001b[35m:f32[4,2]\u001b[39m = add k o\n",
      "  \u001b[34m\u001b[22m\u001b[1min \u001b[39m\u001b[22m\u001b[22m(p,) }\n"
     ]
    }
   ],
   "source": [
    "print(closed_soft_jax_expr)"
   ]
  },
  {
   "cell_type": "code",
   "execution_count": 19,
   "metadata": {},
   "outputs": [
    {
     "name": "stdout",
     "output_type": "stream",
     "text": [
      "{ \u001b[34m\u001b[22m\u001b[1mlambda \u001b[39m\u001b[22m\u001b[22m; a\u001b[35m:bool[4,2]\u001b[39m b\u001b[35m:bool[2]\u001b[39m. \u001b[34m\u001b[22m\u001b[1mlet\n",
      "    \u001b[39m\u001b[22m\u001b[22mc\u001b[35m:bool[4,2]\u001b[39m = xla_call[\n",
      "      call_jaxpr={ \u001b[34m\u001b[22m\u001b[1mlambda \u001b[39m\u001b[22m\u001b[22m; d\u001b[35m:bool[4,2]\u001b[39m e\u001b[35m:bool[2]\u001b[39m. \u001b[34m\u001b[22m\u001b[1mlet\n",
      "          \u001b[39m\u001b[22m\u001b[22mf\u001b[35m:bool[1,2]\u001b[39m = broadcast_in_dim[broadcast_dimensions=(1,) shape=(1, 2)] e\n",
      "          g\u001b[35m:bool[4,2]\u001b[39m = xor f d\n",
      "          h\u001b[35m:bool[4,2]\u001b[39m = not g\n",
      "        \u001b[34m\u001b[22m\u001b[1min \u001b[39m\u001b[22m\u001b[22m(h,) }\n",
      "      name=hard_not\n",
      "    ] a b\n",
      "  \u001b[34m\u001b[22m\u001b[1min \u001b[39m\u001b[22m\u001b[22m(c,) }\n"
     ]
    }
   ],
   "source": [
    "print(closed_hard_jax_expr)"
   ]
  },
  {
   "cell_type": "code",
   "execution_count": null,
   "metadata": {},
   "outputs": [],
   "source": [
    "for eqn in closed_soft_jax_expr.eqns:\n",
    "    print(eqn)"
   ]
  }
 ],
 "metadata": {
  "kernelspec": {
   "display_name": "Python 3.10.6 ('base')",
   "language": "python",
   "name": "python3"
  },
  "language_info": {
   "codemirror_mode": {
    "name": "ipython",
    "version": 3
   },
   "file_extension": ".py",
   "mimetype": "text/x-python",
   "name": "python",
   "nbconvert_exporter": "python",
   "pygments_lexer": "ipython3",
   "version": "3.10.6"
  },
  "orig_nbformat": 4,
  "vscode": {
   "interpreter": {
    "hash": "d4d1e4263499bec80672ea0156c357c1ee493ec2b1c70f0acce89fc37c4a6abe"
   }
  }
 },
 "nbformat": 4,
 "nbformat_minor": 2
}
