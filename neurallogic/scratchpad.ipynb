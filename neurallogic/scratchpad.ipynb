{
 "cells": [
  {
   "cell_type": "code",
   "execution_count": 1,
   "metadata": {},
   "outputs": [],
   "source": [
    "import jax\n",
    "import flax\n",
    "import hard_not\n",
    "import harden"
   ]
  },
  {
   "cell_type": "code",
   "execution_count": 4,
   "metadata": {},
   "outputs": [],
   "source": [
    "def hcall(f, x):\n",
    "    soft, hard, symbolic = x\n",
    "    soft = f(soft)(x)\n",
    "    return soft"
   ]
  },
  {
   "cell_type": "code",
   "execution_count": 28,
   "metadata": {},
   "outputs": [
    {
     "ename": "TypeError",
     "evalue": "Value 'True' with dtype <U4 is not a valid JAX array type. Only arrays of numeric types are supported by JAX.",
     "output_type": "error",
     "traceback": [
      "\u001b[0;31m---------------------------------------------------------------------------\u001b[0m",
      "\u001b[0;31mTypeError\u001b[0m                                 Traceback (most recent call last)",
      "File \u001b[0;32m/opt/conda/lib/python3.10/site-packages/jax/_src/numpy/lax_numpy.py:1872\u001b[0m, in \u001b[0;36marray\u001b[0;34m(object, dtype, copy, order, ndmin)\u001b[0m\n\u001b[1;32m   1871\u001b[0m \u001b[39mtry\u001b[39;00m:\n\u001b[0;32m-> 1872\u001b[0m   dtype \u001b[39m=\u001b[39m dtypes\u001b[39m.\u001b[39;49m_lattice_result_type(\u001b[39m*\u001b[39;49mleaves)[\u001b[39m0\u001b[39m] \u001b[39mif\u001b[39;00m leaves \u001b[39melse\u001b[39;00m dtypes\u001b[39m.\u001b[39mfloat_\n\u001b[1;32m   1873\u001b[0m \u001b[39mexcept\u001b[39;00m \u001b[39mTypeError\u001b[39;00m:\n\u001b[1;32m   1874\u001b[0m   \u001b[39m# This happens if, e.g. one of the entries is a memoryview object.\u001b[39;00m\n\u001b[1;32m   1875\u001b[0m   \u001b[39m# This is rare, so we only handle it if the normal path fails.\u001b[39;00m\n",
      "File \u001b[0;32m/opt/conda/lib/python3.10/site-packages/jax/_src/dtypes.py:452\u001b[0m, in \u001b[0;36m_lattice_result_type\u001b[0;34m(*args)\u001b[0m\n\u001b[1;32m    451\u001b[0m \u001b[39mdef\u001b[39;00m \u001b[39m_lattice_result_type\u001b[39m(\u001b[39m*\u001b[39margs):\n\u001b[0;32m--> 452\u001b[0m   dtypes, weak_types \u001b[39m=\u001b[39m \u001b[39mzip\u001b[39;49m(\u001b[39m*\u001b[39;49m(_dtype_and_weaktype(arg) \u001b[39mfor\u001b[39;49;00m arg \u001b[39min\u001b[39;49;00m args))\n\u001b[1;32m    453\u001b[0m   \u001b[39mif\u001b[39;00m \u001b[39mlen\u001b[39m(dtypes) \u001b[39m==\u001b[39m \u001b[39m1\u001b[39m:\n",
      "File \u001b[0;32m/opt/conda/lib/python3.10/site-packages/jax/_src/dtypes.py:452\u001b[0m, in \u001b[0;36m<genexpr>\u001b[0;34m(.0)\u001b[0m\n\u001b[1;32m    451\u001b[0m \u001b[39mdef\u001b[39;00m \u001b[39m_lattice_result_type\u001b[39m(\u001b[39m*\u001b[39margs):\n\u001b[0;32m--> 452\u001b[0m   dtypes, weak_types \u001b[39m=\u001b[39m \u001b[39mzip\u001b[39m(\u001b[39m*\u001b[39m(_dtype_and_weaktype(arg) \u001b[39mfor\u001b[39;00m arg \u001b[39min\u001b[39;00m args))\n\u001b[1;32m    453\u001b[0m   \u001b[39mif\u001b[39;00m \u001b[39mlen\u001b[39m(dtypes) \u001b[39m==\u001b[39m \u001b[39m1\u001b[39m:\n",
      "File \u001b[0;32m/opt/conda/lib/python3.10/site-packages/jax/_src/dtypes.py:300\u001b[0m, in \u001b[0;36m_dtype_and_weaktype\u001b[0;34m(value)\u001b[0m\n\u001b[1;32m    299\u001b[0m \u001b[39m\"\"\"Return a (dtype, weak_type) tuple for the given input.\"\"\"\u001b[39;00m\n\u001b[0;32m--> 300\u001b[0m \u001b[39mreturn\u001b[39;00m dtype(value), \u001b[39many\u001b[39m(value \u001b[39mis\u001b[39;00m typ \u001b[39mfor\u001b[39;00m typ \u001b[39min\u001b[39;00m _weak_types) \u001b[39mor\u001b[39;00m is_weakly_typed(value)\n",
      "File \u001b[0;32m/opt/conda/lib/python3.10/site-packages/jax/_src/dtypes.py:445\u001b[0m, in \u001b[0;36mdtype\u001b[0;34m(x, canonicalize)\u001b[0m\n\u001b[1;32m    444\u001b[0m \u001b[39melse\u001b[39;00m:\n\u001b[0;32m--> 445\u001b[0m   dt \u001b[39m=\u001b[39m np\u001b[39m.\u001b[39;49mresult_type(x)\n\u001b[1;32m    446\u001b[0m \u001b[39mif\u001b[39;00m dt \u001b[39mnot\u001b[39;00m \u001b[39min\u001b[39;00m _jax_dtype_set:\n",
      "File \u001b[0;32m<__array_function__ internals>:180\u001b[0m, in \u001b[0;36mresult_type\u001b[0;34m(*args, **kwargs)\u001b[0m\n",
      "\u001b[0;31mTypeError\u001b[0m: data type 'True' not understood",
      "\nDuring handling of the above exception, another exception occurred:\n",
      "\u001b[0;31mTypeError\u001b[0m                                 Traceback (most recent call last)",
      "Cell \u001b[0;32mIn [28], line 8\u001b[0m\n\u001b[1;32m      6\u001b[0m y \u001b[39m=\u001b[39m hard\u001b[39m.\u001b[39mapply(hard_weights, [\u001b[39mTrue\u001b[39;00m, \u001b[39mFalse\u001b[39;00m])\n\u001b[1;32m      7\u001b[0m y \u001b[39m=\u001b[39m jax\u001b[39m.\u001b[39mnumpy\u001b[39m.\u001b[39mravel(y)\n\u001b[0;32m----> 8\u001b[0m z \u001b[39m=\u001b[39m hard\u001b[39m.\u001b[39;49mapply(hard_weights, [\u001b[39m'\u001b[39;49m\u001b[39mTrue\u001b[39;49m\u001b[39m'\u001b[39;49m, \u001b[39m'\u001b[39;49m\u001b[39mFalse\u001b[39;49m\u001b[39m'\u001b[39;49m])\n\u001b[1;32m      9\u001b[0m z \u001b[39m=\u001b[39m jax\u001b[39m.\u001b[39mnumpy\u001b[39m.\u001b[39mravel(z)\n\u001b[1;32m     10\u001b[0m \u001b[39mprint\u001b[39m(x, hard, z)\n",
      "    \u001b[0;31m[... skipping hidden 6 frame]\u001b[0m\n",
      "File \u001b[0;32m/workspaces/neural-logic/neurallogic/hard_not.py:68\u001b[0m, in \u001b[0;36mHardNotLayer.__call__\u001b[0;34m(self, x)\u001b[0m\n\u001b[1;32m     66\u001b[0m weights_shape \u001b[39m=\u001b[39m (\u001b[39mself\u001b[39m\u001b[39m.\u001b[39mlayer_size, jax\u001b[39m.\u001b[39mnumpy\u001b[39m.\u001b[39mshape(x)[\u001b[39m-\u001b[39m\u001b[39m1\u001b[39m])\n\u001b[1;32m     67\u001b[0m weights \u001b[39m=\u001b[39m \u001b[39mself\u001b[39m\u001b[39m.\u001b[39mparam(\u001b[39m'\u001b[39m\u001b[39mweights\u001b[39m\u001b[39m'\u001b[39m, nn\u001b[39m.\u001b[39minitializers\u001b[39m.\u001b[39mconstant(\u001b[39m0.0\u001b[39m), weights_shape)\n\u001b[0;32m---> 68\u001b[0m x \u001b[39m=\u001b[39m jax\u001b[39m.\u001b[39;49mnumpy\u001b[39m.\u001b[39;49masarray(x)\n\u001b[1;32m     69\u001b[0m \u001b[39mreturn\u001b[39;00m hard_not_layer(weights, x)\n",
      "File \u001b[0;32m/opt/conda/lib/python3.10/site-packages/jax/_src/numpy/lax_numpy.py:1931\u001b[0m, in \u001b[0;36masarray\u001b[0;34m(a, dtype, order)\u001b[0m\n\u001b[1;32m   1929\u001b[0m lax_internal\u001b[39m.\u001b[39m_check_user_dtype_supported(dtype, \u001b[39m\"\u001b[39m\u001b[39masarray\u001b[39m\u001b[39m\"\u001b[39m)\n\u001b[1;32m   1930\u001b[0m dtype \u001b[39m=\u001b[39m dtypes\u001b[39m.\u001b[39mcanonicalize_dtype(dtype) \u001b[39mif\u001b[39;00m dtype \u001b[39mis\u001b[39;00m \u001b[39mnot\u001b[39;00m \u001b[39mNone\u001b[39;00m \u001b[39melse\u001b[39;00m dtype\n\u001b[0;32m-> 1931\u001b[0m \u001b[39mreturn\u001b[39;00m array(a, dtype\u001b[39m=\u001b[39;49mdtype, copy\u001b[39m=\u001b[39;49m\u001b[39mFalse\u001b[39;49;00m, order\u001b[39m=\u001b[39;49morder)\n",
      "File \u001b[0;32m/opt/conda/lib/python3.10/site-packages/jax/_src/numpy/lax_numpy.py:1877\u001b[0m, in \u001b[0;36marray\u001b[0;34m(object, dtype, copy, order, ndmin)\u001b[0m\n\u001b[1;32m   1873\u001b[0m   \u001b[39mexcept\u001b[39;00m \u001b[39mTypeError\u001b[39;00m:\n\u001b[1;32m   1874\u001b[0m     \u001b[39m# This happens if, e.g. one of the entries is a memoryview object.\u001b[39;00m\n\u001b[1;32m   1875\u001b[0m     \u001b[39m# This is rare, so we only handle it if the normal path fails.\u001b[39;00m\n\u001b[1;32m   1876\u001b[0m     leaves \u001b[39m=\u001b[39m [_convert_to_array_if_dtype_fails(leaf) \u001b[39mfor\u001b[39;00m leaf \u001b[39min\u001b[39;00m leaves]\n\u001b[0;32m-> 1877\u001b[0m     dtype \u001b[39m=\u001b[39m dtypes\u001b[39m.\u001b[39;49m_lattice_result_type(\u001b[39m*\u001b[39;49mleaves)[\u001b[39m0\u001b[39m]\n\u001b[1;32m   1879\u001b[0m \u001b[39mif\u001b[39;00m \u001b[39mnot\u001b[39;00m weak_type:\n\u001b[1;32m   1880\u001b[0m   dtype \u001b[39m=\u001b[39m dtypes\u001b[39m.\u001b[39mcanonicalize_dtype(dtype)\n",
      "    \u001b[0;31m[... skipping hidden 3 frame]\u001b[0m\n",
      "File \u001b[0;32m/opt/conda/lib/python3.10/site-packages/jax/_src/dtypes.py:447\u001b[0m, in \u001b[0;36mdtype\u001b[0;34m(x, canonicalize)\u001b[0m\n\u001b[1;32m    445\u001b[0m   dt \u001b[39m=\u001b[39m np\u001b[39m.\u001b[39mresult_type(x)\n\u001b[1;32m    446\u001b[0m \u001b[39mif\u001b[39;00m dt \u001b[39mnot\u001b[39;00m \u001b[39min\u001b[39;00m _jax_dtype_set:\n\u001b[0;32m--> 447\u001b[0m   \u001b[39mraise\u001b[39;00m \u001b[39mTypeError\u001b[39;00m(\u001b[39mf\u001b[39m\u001b[39m\"\u001b[39m\u001b[39mValue \u001b[39m\u001b[39m'\u001b[39m\u001b[39m{\u001b[39;00mx\u001b[39m}\u001b[39;00m\u001b[39m'\u001b[39m\u001b[39m with dtype \u001b[39m\u001b[39m{\u001b[39;00mdt\u001b[39m}\u001b[39;00m\u001b[39m is not a valid JAX array \u001b[39m\u001b[39m\"\u001b[39m\n\u001b[1;32m    448\u001b[0m                   \u001b[39m\"\u001b[39m\u001b[39mtype. Only arrays of numeric types are supported by JAX.\u001b[39m\u001b[39m\"\u001b[39m)\n\u001b[1;32m    449\u001b[0m \u001b[39mreturn\u001b[39;00m canonicalize_dtype(dt) \u001b[39mif\u001b[39;00m canonicalize \u001b[39melse\u001b[39;00m dt\n",
      "\u001b[0;31mTypeError\u001b[0m: Value 'True' with dtype <U4 is not a valid JAX array type. Only arrays of numeric types are supported by JAX."
     ]
    }
   ],
   "source": [
    "soft, hard, symbolic = hard_not.NotLayer(layer_size=4)\n",
    "soft_weights = soft.init(jax.random.PRNGKey(0), [1.0, 1.0])\n",
    "x = soft.apply(soft_weights, [1.0, 0.0])\n",
    "x = jax.numpy.ravel(x)\n",
    "hard_weights = harden.harden(soft_weights)\n",
    "y = hard.apply(hard_weights, [True, False])\n",
    "y = jax.numpy.ravel(y)\n",
    "z = hard.apply(hard_weights, ['True', 'False'])\n",
    "z = jax.numpy.ravel(z)\n",
    "print(x, hard, z)"
   ]
  },
  {
   "cell_type": "code",
   "execution_count": 4,
   "metadata": {},
   "outputs": [
    {
     "data": {
      "text/plain": [
       "[DeviceArray([[0.26377404, 0.8707025 ],\n",
       "              [0.44444847, 0.03216302],\n",
       "              [0.6110164 , 0.685097  ],\n",
       "              [0.9133855 , 0.08662593]], dtype=float32),\n",
       " DeviceArray([[False,  True],\n",
       "              [False, False],\n",
       "              [ True,  True],\n",
       "              [ True, False]], dtype=bool),\n",
       " '[[not(x1 ^ False), not(x2 ^ True)], [not(x1 ^ False), not(x2 ^ False)], [not(x1 ^ True), not(x2 ^ True)], [not(x1 ^ True), not(x2 ^ False)]]',\n",
       " [[False, True], [False, False], [True, True], [True, False]]]"
      ]
     },
     "execution_count": 4,
     "metadata": {},
     "output_type": "execute_result"
    }
   ],
   "source": [
    "soft_net, hard_net, symbolic_net = hard_not.NotLayer(layer_size=4)\n",
    "soft_weights = soft_net.init(jax.random.PRNGKey(0), [1.0, 1.0])\n",
    "hard_weights = harden.harden_dict(soft_weights)\n",
    "[\n",
    "    soft_net.apply(soft_weights, [1.0, 1.0]),\n",
    "    hard_net.apply(hard_weights, [True, True]),\n",
    "    symbolic_net.apply(hard_weights, ['x1', 'x2']),\n",
    "    eval(symbolic_net.apply(hard_weights, [True, True])),\n",
    "]"
   ]
  }
 ],
 "metadata": {
  "kernelspec": {
   "display_name": "Python 3.10.6 ('base')",
   "language": "python",
   "name": "python3"
  },
  "language_info": {
   "codemirror_mode": {
    "name": "ipython",
    "version": 3
   },
   "file_extension": ".py",
   "mimetype": "text/x-python",
   "name": "python",
   "nbconvert_exporter": "python",
   "pygments_lexer": "ipython3",
   "version": "3.10.6"
  },
  "orig_nbformat": 4,
  "vscode": {
   "interpreter": {
    "hash": "d4d1e4263499bec80672ea0156c357c1ee493ec2b1c70f0acce89fc37c4a6abe"
   }
  }
 },
 "nbformat": 4,
 "nbformat_minor": 2
}
