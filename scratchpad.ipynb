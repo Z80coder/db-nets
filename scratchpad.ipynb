{
 "cells": [
  {
   "cell_type": "code",
   "execution_count": 1,
   "metadata": {},
   "outputs": [
    {
     "name": "stderr",
     "output_type": "stream",
     "text": [
      "2022-11-23 09:34:37.747733: W tensorflow/compiler/xla/stream_executor/platform/default/dso_loader.cc:64] Could not load dynamic library 'libnvinfer.so.7'; dlerror: libnvinfer.so.7: cannot open shared object file: No such file or directory\n",
      "2022-11-23 09:34:37.747923: W tensorflow/compiler/xla/stream_executor/platform/default/dso_loader.cc:64] Could not load dynamic library 'libnvinfer_plugin.so.7'; dlerror: libnvinfer_plugin.so.7: cannot open shared object file: No such file or directory\n",
      "2022-11-23 09:34:37.747941: W tensorflow/compiler/tf2tensorrt/utils/py_utils.cc:38] TF-TRT Warning: Cannot dlopen some TensorRT libraries. If you would like to use Nvidia GPU with TensorRT, please make sure the missing libraries mentioned above are installed properly.\n"
     ]
    }
   ],
   "source": [
    "import jax\n",
    "from neurallogic import hard_not, hard_and, harden, neural_logic_net, harden_layer, primitives\n",
    "from tests import test_mnist"
   ]
  },
  {
   "cell_type": "code",
   "execution_count": 19,
   "metadata": {},
   "outputs": [
    {
     "ename": "AttributeError",
     "evalue": "module 'jax.interpreters.xla' has no attribute 'DeviceValue'",
     "output_type": "error",
     "traceback": [
      "\u001b[0;31m---------------------------------------------------------------------------\u001b[0m",
      "\u001b[0;31mAttributeError\u001b[0m                            Traceback (most recent call last)",
      "Cell \u001b[0;32mIn [19], line 1\u001b[0m\n\u001b[0;32m----> 1\u001b[0m reset_device_memory()\n",
      "Cell \u001b[0;32mIn [18], line 12\u001b[0m, in \u001b[0;36mreset_device_memory\u001b[0;34m(delete_objs)\u001b[0m\n\u001b[1;32m     10\u001b[0m dvals \u001b[39m=\u001b[39m (x \u001b[39mfor\u001b[39;00m x \u001b[39min\u001b[39;00m gc\u001b[39m.\u001b[39mget_objects() \u001b[39mif\u001b[39;00m \u001b[39misinstance\u001b[39m(x, jax\u001b[39m.\u001b[39mxla\u001b[39m.\u001b[39mDeviceValue))\n\u001b[1;32m     11\u001b[0m n_deleted \u001b[39m=\u001b[39m \u001b[39m0\u001b[39m\n\u001b[0;32m---> 12\u001b[0m \u001b[39mfor\u001b[39;00m dv \u001b[39min\u001b[39;00m dvals:\n\u001b[1;32m     13\u001b[0m   \u001b[39mif\u001b[39;00m \u001b[39mnot\u001b[39;00m \u001b[39misinstance\u001b[39m(dv, jax\u001b[39m.\u001b[39mxla\u001b[39m.\u001b[39mDeviceConstant):\n\u001b[1;32m     14\u001b[0m     \u001b[39mtry\u001b[39;00m:\n",
      "Cell \u001b[0;32mIn [18], line 10\u001b[0m, in \u001b[0;36m<genexpr>\u001b[0;34m(.0)\u001b[0m\n\u001b[1;32m      3\u001b[0m \u001b[39mdef\u001b[39;00m \u001b[39mreset_device_memory\u001b[39m(delete_objs\u001b[39m=\u001b[39m\u001b[39mTrue\u001b[39;00m):\n\u001b[1;32m      4\u001b[0m   \u001b[39m\"\"\"Free all tracked DeviceArray memory and delete objects.\u001b[39;00m\n\u001b[1;32m      5\u001b[0m \u001b[39m  Args:\u001b[39;00m\n\u001b[1;32m      6\u001b[0m \u001b[39m    delete_objs: bool: whether to delete all live DeviceValues or just free.\u001b[39;00m\n\u001b[1;32m      7\u001b[0m \u001b[39m  Returns:\u001b[39;00m\n\u001b[1;32m      8\u001b[0m \u001b[39m    number of DeviceArrays that were manually freed.\u001b[39;00m\n\u001b[1;32m      9\u001b[0m \u001b[39m  \"\"\"\u001b[39;00m\n\u001b[0;32m---> 10\u001b[0m   dvals \u001b[39m=\u001b[39m (x \u001b[39mfor\u001b[39;00m x \u001b[39min\u001b[39;00m gc\u001b[39m.\u001b[39mget_objects() \u001b[39mif\u001b[39;00m \u001b[39misinstance\u001b[39m(x, jax\u001b[39m.\u001b[39;49mxla\u001b[39m.\u001b[39;49mDeviceValue))\n\u001b[1;32m     11\u001b[0m   n_deleted \u001b[39m=\u001b[39m \u001b[39m0\u001b[39m\n\u001b[1;32m     12\u001b[0m   \u001b[39mfor\u001b[39;00m dv \u001b[39min\u001b[39;00m dvals:\n",
      "\u001b[0;31mAttributeError\u001b[0m: module 'jax.interpreters.xla' has no attribute 'DeviceValue'"
     ]
    }
   ],
   "source": [
    "reset_device_memory()"
   ]
  },
  {
   "cell_type": "code",
   "execution_count": 2,
   "metadata": {},
   "outputs": [],
   "source": [
    "import numpy"
   ]
  },
  {
   "cell_type": "code",
   "execution_count": 3,
   "metadata": {},
   "outputs": [
    {
     "data": {
      "text/plain": [
       "6"
      ]
     },
     "execution_count": 3,
     "metadata": {},
     "output_type": "execute_result"
    }
   ],
   "source": [
    "numpy.sum(numpy.array([1,2,3]), 0)"
   ]
  },
  {
   "cell_type": "code",
   "execution_count": 7,
   "metadata": {},
   "outputs": [
    {
     "data": {
      "text/plain": [
       "3"
      ]
     },
     "execution_count": 7,
     "metadata": {},
     "output_type": "execute_result"
    }
   ],
   "source": [
    "import operator\n",
    "operator.add(1,2)"
   ]
  },
  {
   "cell_type": "code",
   "execution_count": 9,
   "metadata": {},
   "outputs": [
    {
     "data": {
      "text/plain": [
       "array([[0.5, 1. ],\n",
       "       [1.5, 2. ]])"
      ]
     },
     "execution_count": 9,
     "metadata": {},
     "output_type": "execute_result"
    }
   ],
   "source": [
    "numpy.divide([[1,2],[3,4]], 2)"
   ]
  },
  {
   "cell_type": "code",
   "execution_count": 13,
   "metadata": {},
   "outputs": [
    {
     "data": {
      "text/plain": [
       "DeviceArray([inf, nan], dtype=float32)"
      ]
     },
     "execution_count": 13,
     "metadata": {},
     "output_type": "execute_result"
    }
   ],
   "source": [
    "jax.scipy.special.logit(jax.numpy.array([1,2]))"
   ]
  },
  {
   "cell_type": "code",
   "execution_count": 9,
   "metadata": {},
   "outputs": [
    {
     "data": {
      "text/plain": [
       "DeviceArray([2., 5., 8.], dtype=float32)"
      ]
     },
     "execution_count": 9,
     "metadata": {},
     "output_type": "execute_result"
    }
   ],
   "source": [
    "jax.numpy.mean(jax.numpy.array([[1,2,3],[4,5,6],[7,8,9]]), -1)"
   ]
  },
  {
   "cell_type": "code",
   "execution_count": 20,
   "metadata": {},
   "outputs": [
    {
     "data": {
      "text/plain": [
       "DeviceArray([ 6, 15, 24], dtype=int32)"
      ]
     },
     "execution_count": 20,
     "metadata": {},
     "output_type": "execute_result"
    }
   ],
   "source": [
    "jax.numpy.sum(jax.numpy.array([[1,2,3],[4,5,6],[7,8,9]]), -1)"
   ]
  },
  {
   "cell_type": "code",
   "execution_count": 2,
   "metadata": {},
   "outputs": [],
   "source": [
    "soft, hard, symbolic = neural_logic_net.net(test_mnist.nln)"
   ]
  },
  {
   "cell_type": "code",
   "execution_count": 3,
   "metadata": {},
   "outputs": [
    {
     "name": "stderr",
     "output_type": "stream",
     "text": [
      "/workspaces/neural-logic/neurallogic/hard_or.py:95: UserWarning: Explicitly requested dtype <class 'jax.numpy.float64'> requested in asarray is not available, and will be truncated to dtype float32. To enable more dtypes, set the jax_enable_x64 configuration option or the JAX_ENABLE_X64 shell environment variable. See https://github.com/google/jax#current-gotchas for more.\n",
      "  x = jax.numpy.asarray(x, self.dtype)\n",
      "/workspaces/neural-logic/neurallogic/hard_not.py:73: UserWarning: Explicitly requested dtype <class 'jax.numpy.float64'> requested in asarray is not available, and will be truncated to dtype float32. To enable more dtypes, set the jax_enable_x64 configuration option or the JAX_ENABLE_X64 shell environment variable. See https://github.com/google/jax#current-gotchas for more.\n",
      "  x = jax.numpy.asarray(x, self.dtype)\n"
     ]
    }
   ],
   "source": [
    "mock_input = jax.numpy.ones([28, 28])\n",
    "rng = jax.random.PRNGKey(0)\n",
    "soft_weights = soft.init(rng, mock_input)\n",
    "hard_weights = harden.hard_weights(soft_weights)"
   ]
  },
  {
   "cell_type": "code",
   "execution_count": 4,
   "metadata": {},
   "outputs": [
    {
     "data": {
      "text/plain": [
       "DeviceArray([198., 215., 208., 203., 213., 187., 201., 192., 191., 199.],            dtype=float32)"
      ]
     },
     "execution_count": 4,
     "metadata": {},
     "output_type": "execute_result"
    }
   ],
   "source": [
    "soft.apply(soft_weights, mock_input)"
   ]
  },
  {
   "cell_type": "code",
   "execution_count": 5,
   "metadata": {},
   "outputs": [
    {
     "data": {
      "text/plain": [
       "DeviceArray([198, 215, 208, 203, 213, 187, 201, 192, 191, 199], dtype=int32)"
      ]
     },
     "execution_count": 5,
     "metadata": {},
     "output_type": "execute_result"
    }
   ],
   "source": [
    "hard.apply(hard_weights, harden.harden(mock_input))"
   ]
  },
  {
   "cell_type": "code",
   "execution_count": 5,
   "metadata": {},
   "outputs": [
    {
     "data": {
      "text/plain": [
       "[198, 215, 208, 203, 213, 187, 201, 192, 191, 199]"
      ]
     },
     "execution_count": 5,
     "metadata": {},
     "output_type": "execute_result"
    }
   ],
   "source": [
    "symbolic_weights = harden.symbolic_weights(soft_weights)\n",
    "symbolic.apply(symbolic_weights, harden.harden(mock_input).tolist())"
   ]
  }
 ],
 "metadata": {
  "kernelspec": {
   "display_name": "Python 3.10.6 ('base')",
   "language": "python",
   "name": "python3"
  },
  "language_info": {
   "codemirror_mode": {
    "name": "ipython",
    "version": 3
   },
   "file_extension": ".py",
   "mimetype": "text/x-python",
   "name": "python",
   "nbconvert_exporter": "python",
   "pygments_lexer": "ipython3",
   "version": "3.10.6"
  },
  "orig_nbformat": 4,
  "vscode": {
   "interpreter": {
    "hash": "d4d1e4263499bec80672ea0156c357c1ee493ec2b1c70f0acce89fc37c4a6abe"
   }
  }
 },
 "nbformat": 4,
 "nbformat_minor": 2
}
