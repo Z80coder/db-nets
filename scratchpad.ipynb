{
 "cells": [
  {
   "cell_type": "markdown",
   "metadata": {},
   "source": [
    "## Imports"
   ]
  },
  {
   "cell_type": "code",
   "execution_count": 1,
   "metadata": {},
   "outputs": [
    {
     "name": "stderr",
     "output_type": "stream",
     "text": [
      "2022-12-09 17:11:38.691837: I tensorflow/core/platform/cpu_feature_guard.cc:193] This TensorFlow binary is optimized with oneAPI Deep Neural Network Library (oneDNN) to use the following CPU instructions in performance-critical operations:  AVX2 FMA\n",
      "To enable them in other operations, rebuild TensorFlow with the appropriate compiler flags.\n",
      "2022-12-09 17:11:39.652433: W tensorflow/compiler/xla/stream_executor/platform/default/dso_loader.cc:64] Could not load dynamic library 'libnvinfer.so.7'; dlerror: libnvinfer.so.7: cannot open shared object file: No such file or directory\n",
      "2022-12-09 17:11:39.652556: W tensorflow/compiler/xla/stream_executor/platform/default/dso_loader.cc:64] Could not load dynamic library 'libnvinfer_plugin.so.7'; dlerror: libnvinfer_plugin.so.7: cannot open shared object file: No such file or directory\n",
      "2022-12-09 17:11:39.652571: W tensorflow/compiler/tf2tensorrt/utils/py_utils.cc:38] TF-TRT Warning: Cannot dlopen some TensorRT libraries. If you would like to use Nvidia GPU with TensorRT, please make sure the missing libraries mentioned above are installed properly.\n"
     ]
    }
   ],
   "source": [
    "import tensorflow as tf\n",
    "import jax\n",
    "import jax.numpy as jnp\n",
    "from flax import linen as nn\n",
    "from neurallogic import neural_logic_net, harden, harden_layer, hard_or, hard_and, hard_not, primitives, symbolic_primitives\n",
    "from tests import test_mnist\n",
    "tf.config.experimental.set_visible_devices([], \"GPU\")"
   ]
  },
  {
   "cell_type": "code",
   "execution_count": 2,
   "metadata": {},
   "outputs": [],
   "source": [
    "import ml_collections"
   ]
  },
  {
   "cell_type": "code",
   "execution_count": 3,
   "metadata": {},
   "outputs": [],
   "source": [
    "from jax._src.util import safe_map"
   ]
  },
  {
   "cell_type": "code",
   "execution_count": 4,
   "metadata": {},
   "outputs": [],
   "source": [
    "from jax import core"
   ]
  },
  {
   "cell_type": "code",
   "execution_count": 5,
   "metadata": {},
   "outputs": [],
   "source": [
    "from jax.interpreters import xla"
   ]
  },
  {
   "cell_type": "markdown",
   "metadata": {},
   "source": [
    "# Sandpit"
   ]
  },
  {
   "cell_type": "code",
   "execution_count": 6,
   "metadata": {},
   "outputs": [],
   "source": [
    "def examine_jaxpr(closed_jaxpr):\n",
    "   jaxpr = closed_jaxpr.jaxpr\n",
    "   print(\"invars:\", jaxpr.invars)\n",
    "   print(\"outvars:\", jaxpr.outvars)\n",
    "   print(\"constvars:\", jaxpr.constvars)\n",
    "   for eqn in jaxpr.eqns:\n",
    "     print(\"equation:\", eqn.invars, eqn.primitive, eqn.outvars, eqn.params)\n",
    "   print()\n",
    "   print(\"jaxpr:\", jaxpr)"
   ]
  },
  {
   "cell_type": "code",
   "execution_count": 7,
   "metadata": {},
   "outputs": [],
   "source": [
    "train_ds, test_ds = test_mnist.get_datasets()\n",
    "train_ds[\"image\"] = jnp.reshape(train_ds[\"image\"], (train_ds[\"image\"].shape[0], -1))\n",
    "test_ds[\"image\"] = jnp.reshape(test_ds[\"image\"], (test_ds[\"image\"].shape[0], -1))"
   ]
  },
  {
   "cell_type": "code",
   "execution_count": 8,
   "metadata": {},
   "outputs": [],
   "source": [
    "def nln(type, x, width):\n",
    "    x = hard_or.or_layer(type)(width, nn.initializers.uniform(1.0), dtype=jnp.float32)(x) \n",
    "    #x = hard_not.not_layer(type)(10, dtype=jnp.float32)(x)\n",
    "    #x = primitives.nl_ravel(type)(x) \n",
    "    #x = harden_layer.harden_layer(type)(x) \n",
    "    #x = primitives.nl_reshape(type)((10, width))(x) \n",
    "    #x = primitives.nl_sum(type)(-1)(x) \n",
    "    return x\n",
    "\n",
    "def batch_nln(type, x, width):\n",
    "    return jax.vmap(lambda x: nln(type, x, width))(x)"
   ]
  },
  {
   "cell_type": "code",
   "execution_count": 9,
   "metadata": {},
   "outputs": [],
   "source": [
    "width = 10\n",
    "soft, hard, _ = neural_logic_net.net(lambda type, x: nln(type, x, width))"
   ]
  },
  {
   "cell_type": "code",
   "execution_count": 10,
   "metadata": {},
   "outputs": [
    {
     "data": {
      "text/plain": [
       "FrozenDict({\n",
       "    params: {\n",
       "        HardOrLayer_0: {\n",
       "            weights: DeviceArray([[ True, False, False, ...,  True,  True,  True],\n",
       "                         [False, False, False, ...,  True, False, False],\n",
       "                         [False,  True,  True, ...,  True,  True, False],\n",
       "                         ...,\n",
       "                         [False,  True, False, ...,  True, False, False],\n",
       "                         [False,  True, False, ...,  True,  True, False],\n",
       "                         [ True, False,  True, ..., False, False, False]], dtype=bool),\n",
       "        },\n",
       "    },\n",
       "})"
      ]
     },
     "execution_count": 10,
     "metadata": {},
     "output_type": "execute_result"
    }
   ],
   "source": [
    "rng = jax.random.PRNGKey(0)\n",
    "rng, init_rng = jax.random.split(rng)\n",
    "mock_input = harden.harden(jnp.ones([28 * 28]))\n",
    "hard_weights = harden.hard_weights(soft.init(rng, mock_input))\n",
    "hard_weights"
   ]
  },
  {
   "cell_type": "code",
   "execution_count": 11,
   "metadata": {},
   "outputs": [],
   "source": [
    "\n",
    "jaxpr = jax.make_jaxpr(lambda x: hard.apply(hard_weights, x))(harden.harden(test_ds['image'][0]))"
   ]
  },
  {
   "cell_type": "code",
   "execution_count": 12,
   "metadata": {},
   "outputs": [
    {
     "name": "stdout",
     "output_type": "stream",
     "text": [
      "invars: [b]\n",
      "outvars: [d]\n",
      "constvars: [a]\n",
      "equation: [a, b] xla_call [c] {'device': None, 'backend': None, 'name': 'hard_or_include', 'donated_invars': (False, False), 'inline': False, 'keep_unused': False, 'call_jaxpr': { lambda ; a:bool[10,784] b:bool[784]. let\n",
      "    c:bool[1,784] = broadcast_in_dim[broadcast_dimensions=(1,) shape=(1, 784)] b\n",
      "    d:bool[10,784] = and c a\n",
      "  in (d,) }}\n",
      "equation: [c] reduce_or [d] {'axes': (1,)}\n",
      "\n",
      "jaxpr: { lambda a:bool[10,784]; b:bool[784]. let\n",
      "    c:bool[10,784] = xla_call[\n",
      "      call_jaxpr={ lambda ; d:bool[10,784] e:bool[784]. let\n",
      "          f:bool[1,784] = broadcast_in_dim[\n",
      "            broadcast_dimensions=(1,)\n",
      "            shape=(1, 784)\n",
      "          ] e\n",
      "          g:bool[10,784] = and f d\n",
      "        in (g,) }\n",
      "      name=hard_or_include\n",
      "    ] a b\n",
      "    h:bool[10] = reduce_or[axes=(1,)] c\n",
      "  in (h,) }\n"
     ]
    }
   ],
   "source": [
    "examine_jaxpr(jaxpr)"
   ]
  },
  {
   "cell_type": "code",
   "execution_count": 13,
   "metadata": {},
   "outputs": [],
   "source": [
    "import jax._src.lax_reference as lax_reference\n",
    "import numpy"
   ]
  },
  {
   "cell_type": "code",
   "execution_count": 14,
   "metadata": {},
   "outputs": [
    {
     "data": {
      "text/plain": [
       "array([ True, False])"
      ]
     },
     "execution_count": 14,
     "metadata": {},
     "output_type": "execute_result"
    }
   ],
   "source": [
    "numpy.logical_and([True, False], [True, True])"
   ]
  },
  {
   "cell_type": "code",
   "execution_count": 15,
   "metadata": {},
   "outputs": [
    {
     "data": {
      "text/plain": [
       "array([ True, False])"
      ]
     },
     "execution_count": 15,
     "metadata": {},
     "output_type": "execute_result"
    }
   ],
   "source": [
    "numpy.logical_and([True, False], [True, True])"
   ]
  },
  {
   "cell_type": "code",
   "execution_count": 16,
   "metadata": {},
   "outputs": [],
   "source": [
    "def boolify(x):\n",
    "    if isinstance(x, bool):\n",
    "        return 'True' if x else 'False'\n",
    "    elif x == 0.0 or x == 1:\n",
    "        return 'True' if x == 1 else 'False'\n",
    "    elif isinstance(x, str) and (x == 'True' or x == 'False'):\n",
    "        return 'True' if x == 'True' else 'False'\n",
    "    else:\n",
    "        return str(x)\n",
    "\n",
    "def stringify(x):\n",
    "    if isinstance(x, numpy.ndarray) or isinstance(x, jax.numpy.ndarray):\n",
    "        return stringify(x.tolist())\n",
    "    elif isinstance(x, list):\n",
    "        return numpy.array([stringify(y) for y in x], dtype=object)\n",
    "    else:\n",
    "        return boolify(x)"
   ]
  },
  {
   "cell_type": "code",
   "execution_count": 17,
   "metadata": {},
   "outputs": [
    {
     "data": {
      "text/plain": [
       "array([['True', '2', '3'],\n",
       "       ['4', '5', '6']], dtype=object)"
      ]
     },
     "execution_count": 17,
     "metadata": {},
     "output_type": "execute_result"
    }
   ],
   "source": [
    "stringify([[1,2,3], [4,5,6]])"
   ]
  },
  {
   "cell_type": "code",
   "execution_count": 18,
   "metadata": {},
   "outputs": [
    {
     "data": {
      "text/plain": [
       "array([['True', '2', '3'],\n",
       "       ['4', '5', '6']], dtype=object)"
      ]
     },
     "execution_count": 18,
     "metadata": {},
     "output_type": "execute_result"
    }
   ],
   "source": [
    "stringify(numpy.array([[1,2,3], [4,5,6]]))"
   ]
  },
  {
   "cell_type": "code",
   "execution_count": 19,
   "metadata": {},
   "outputs": [
    {
     "data": {
      "text/plain": [
       "array([['True', '2', '3'],\n",
       "       ['4', '5', '6']], dtype=object)"
      ]
     },
     "execution_count": 19,
     "metadata": {},
     "output_type": "execute_result"
    }
   ],
   "source": [
    "stringify(jax.numpy.array([[1,2,3], [4,5,6]]))"
   ]
  },
  {
   "cell_type": "code",
   "execution_count": 20,
   "metadata": {},
   "outputs": [
    {
     "data": {
      "text/plain": [
       "array([['hello', 'world', 'hello'],\n",
       "       ['earth', 'hello', 'universe']], dtype=object)"
      ]
     },
     "execution_count": 20,
     "metadata": {},
     "output_type": "execute_result"
    }
   ],
   "source": [
    "stringify(numpy.array([[\"hello\",\"world\",\"hello\"], [\"earth\",\"hello\",\"universe\"]], dtype=str))"
   ]
  },
  {
   "cell_type": "code",
   "execution_count": 21,
   "metadata": {},
   "outputs": [
    {
     "data": {
      "text/plain": [
       "array([['True', 'False', 'True'],\n",
       "       ['True', 'True', 'False']], dtype=object)"
      ]
     },
     "execution_count": 21,
     "metadata": {},
     "output_type": "execute_result"
    }
   ],
   "source": [
    "stringify(numpy.array([[True,False,True], [True,True,False]], dtype=bool))"
   ]
  },
  {
   "cell_type": "code",
   "execution_count": 27,
   "metadata": {},
   "outputs": [],
   "source": [
    "def symbolic_and(*args, **kwargs):\n",
    "  if args[0].dtype == bool:\n",
    "    return numpy.logical_and(*args, **kwargs)\n",
    "  else:\n",
    "    #print(\"and type\", args[0].dtype)\n",
    "    r = symbolic_primitives.binary_operator(\" and \", *args, **kwargs)\n",
    "    #print(\"and result type\", r.dtype)\n",
    "    return r\n",
    "\n",
    "def symbolic_broadcast_in_dim(*args, **kwargs):\n",
    "  #print(\"broadcasting type\", args[0].dtype)\n",
    "  r = lax_reference.broadcast_in_dim(*args, **kwargs)\n",
    "  #print(\"broadcasting result type\", r.dtype)\n",
    "  return r\n",
    "\n",
    "def symbolic_xor(x, y):\n",
    "  return f\"{x} ^ {y}\"\n",
    "\n",
    "def symbolic_or(x, y):\n",
    "  return f\"{x} or {y}\"\n",
    "\n",
    "def symbolic_not(x):\n",
    "  return f\"~{x}\"\n",
    "\n",
    "def make_symbolic_reducer(py_binop, init_val):\n",
    "  def reducer(operand, axis=0):\n",
    "    axis = range(numpy.ndim(operand)) if axis is None else axis\n",
    "    result = numpy.full(numpy.delete(numpy.shape(operand), axis), init_val, dtype=numpy.asarray(operand).dtype)\n",
    "    for idx, _ in numpy.ndenumerate(operand):\n",
    "      out_idx = tuple(numpy.delete(idx, axis))\n",
    "      result[out_idx] = py_binop(result[out_idx], operand[idx])\n",
    "    return result\n",
    "  return reducer\n",
    "\n",
    "def symbolic_reduce(operand, init_value, computation, dimensions):\n",
    "  reducer = make_symbolic_reducer(computation, init_value)\n",
    "  return reducer(operand, tuple(dimensions)).astype(operand.dtype)\n",
    "  \n",
    "def symbolic_reduce_or(*args, **kwargs):\n",
    "  if args[0].dtype == bool:\n",
    "    return lax_reference.reduce(*args, init_value=False, dimensions=kwargs['axes'], computation=numpy.logical_or)\n",
    "  else:\n",
    "    #print(\"args = \", args)\n",
    "    #print(\"type args[0] = \", type(args[0]))\n",
    "    #print(\"element type = \", args[0].dtype)\n",
    "    r = symbolic_reduce(*args, init_value='False', dimensions=kwargs['axes'], computation=symbolic_or)\n",
    "    #print(\"symbolic_reduce_or result: \", r)\n",
    "    #print(\"type: \", type(r))\n",
    "    #print(\"element type: \", r.dtype)\n",
    "    return r\n",
    "\n",
    "def symbolic_bind(prim, *args, **params):\n",
    "  #print(\"primitive: \", prim.name)\n",
    "  symbolic_outvals = {\n",
    "    'and': symbolic_and,\n",
    "    'broadcast_in_dim': symbolic_broadcast_in_dim,\n",
    "    'xor': symbolic_xor,\n",
    "    'not': symbolic_not,\n",
    "    'reshape': lax_reference.reshape,\n",
    "    'reduce_or': symbolic_reduce_or,\n",
    "  }[prim.name](*args, **params)\n",
    "  return symbolic_outvals\n",
    "\n",
    "def eval_jaxpr(symbolic, jaxpr, consts, *args):\n",
    "  # Mapping from variable -> value\n",
    "  env = {}\n",
    "  symbolic_env = {}\n",
    "  \n",
    "  def read(var):\n",
    "    # Literals are values baked into the Jaxpr\n",
    "    if type(var) is core.Literal:\n",
    "      return var.val\n",
    "    return env[var]\n",
    "\n",
    "  def symbolic_read(var):\n",
    "    return symbolic_env[var]\n",
    "\n",
    "  def write(var, val):\n",
    "    env[var] = val\n",
    "\n",
    "  def symbolic_write(var, val):\n",
    "    symbolic_env[var] = val\n",
    "\n",
    "  # Bind args and consts to environment\n",
    "  if not symbolic:\n",
    "    safe_map(write, jaxpr.invars, args)\n",
    "    safe_map(write, jaxpr.constvars, consts)\n",
    "  safe_map(symbolic_write, jaxpr.invars, args)\n",
    "  safe_map(symbolic_write, jaxpr.constvars, consts)\n",
    "\n",
    "  def eval_jaxpr_impl(jaxpr):\n",
    "    # Loop through equations and evaluate primitives using `bind`\n",
    "    for eqn in jaxpr.eqns:\n",
    "      # Read inputs to equation from environment\n",
    "      if not symbolic:\n",
    "        invals = safe_map(read, eqn.invars)  \n",
    "      symbolic_invals = safe_map(symbolic_read, eqn.invars)\n",
    "      # `bind` is how a primitive is called\n",
    "      prim = eqn.primitive\n",
    "      if type(prim) is jax.core.CallPrimitive:\n",
    "        call_jaxpr = eqn.params['call_jaxpr']\n",
    "        if not symbolic:\n",
    "          safe_map(write, call_jaxpr.invars, map(read, eqn.invars))\n",
    "        safe_map(symbolic_write, call_jaxpr.invars, map(symbolic_read, eqn.invars))\n",
    "        eval_jaxpr_impl(call_jaxpr)\n",
    "        if not symbolic:\n",
    "          safe_map(write, eqn.outvars, map(read, call_jaxpr.outvars))\n",
    "        safe_map(symbolic_write, eqn.outvars, map(symbolic_read, call_jaxpr.outvars))\n",
    "      else:\n",
    "        if not symbolic:\n",
    "          outvals = prim.bind(*invals, **eqn.params)\n",
    "        symbolic_outvals = symbolic_bind(prim, *symbolic_invals, **eqn.params)\n",
    "        #if not symbolic:\n",
    "        #  print(f\"outvals: {type(outvals)}: {outvals.shape}: {outvals}\")\n",
    "        #print(f\"symbolic_outvals: {type(symbolic_outvals)}: {symbolic_outvals.shape}: {symbolic_outvals}\")\n",
    "        # Primitives may return multiple outputs or not\n",
    "        if not prim.multiple_results: \n",
    "          if not symbolic:\n",
    "            outvals = [outvals]\n",
    "          symbolic_outvals = [symbolic_outvals]\n",
    "        if not symbolic:\n",
    "          assert numpy.array_equal(numpy.array(outvals), symbolic_outvals)\n",
    "        # Write the results of the primitive into the environment\n",
    "        if not symbolic:\n",
    "          safe_map(write, eqn.outvars, outvals)\n",
    "        safe_map(symbolic_write, eqn.outvars, symbolic_outvals)\n",
    "\n",
    "  # Read the final result of the Jaxpr from the environment\n",
    "  eval_jaxpr_impl(jaxpr)\n",
    "  if not symbolic:\n",
    "    val, symbolic_val = safe_map(read, jaxpr.outvars), safe_map(symbolic_read, jaxpr.outvars)\n",
    "    return val[0], symbolic_val[0]\n",
    "  else:\n",
    "    return safe_map(symbolic_read, jaxpr.outvars)[0]\n",
    "  "
   ]
  },
  {
   "cell_type": "code",
   "execution_count": 28,
   "metadata": {},
   "outputs": [
    {
     "name": "stdout",
     "output_type": "stream",
     "text": [
      "SUCCESS: jax primitives and symbolic primitives are identical.\n",
      "SUCCESS: non-standard evaluation is identical to standard evaluation of jaxpr.\n",
      "eval_hard_output [ True  True  True  True  True  True  True  True  True  True]\n",
      "SUCCESS: dimensions of non-standard evaluation and standard evaluation of jaxpr are identical.\n",
      "reduced_eval_symbolic_output: [ True  True  True  True  True  True  True  True  True  True]\n"
     ]
    }
   ],
   "source": [
    "hard_mock_input = harden.harden(test_ds['image'][0])\n",
    "hard_output = hard.apply(hard_weights, hard_mock_input)\n",
    "#print(\"hard_output shape:\", hard_output.shape)\n",
    "#print(\"hard_output:\", hard_output)\n",
    "eval_hard_output, eval_symbolic_output = eval_jaxpr(False, jaxpr.jaxpr, jaxpr.literals, hard_mock_input)\n",
    "#print(\"eval_hard_output:\", eval_hard_output)\n",
    "#print(\"eval_symbolic_output:\", eval_symbolic_output)\n",
    "assert numpy.array_equal(numpy.array(eval_hard_output), eval_symbolic_output)\n",
    "print(\"SUCCESS: jax primitives and symbolic primitives are identical.\")\n",
    "standard_jax_output = hard.apply(hard_weights, hard_mock_input)\n",
    "#print(\"standard_jax_output\", standard_jax_output)\n",
    "#print(\"eval_hard_output\", numpy.array(eval_hard_output))\n",
    "assert jax.numpy.array_equal(numpy.array(eval_hard_output), standard_jax_output)\n",
    "print(\"SUCCESS: non-standard evaluation is identical to standard evaluation of jaxpr.\")\n",
    "symbolic_mock_input = stringify(hard_mock_input)\n",
    "#print(\"symbolic_mock_input:\", symbolic_mock_input)\n",
    "#print(\"type of symbolic_mock_input = \", type(symbolic_mock_input))\n",
    "#print(\"type of element = \", symbolic_mock_input.dtype)\n",
    "symbolic_jaxpr_literals = stringify(jaxpr.literals)\n",
    "#print(\"jaxpr.literals = \", symbolic_jaxpr_literals)\n",
    "#print(\"type of jaxpr.literals = \", type(symbolic_jaxpr_literals))\n",
    "#print(\"type of element = \", symbolic_jaxpr_literals.dtype)\n",
    "eval_symbolic_output = eval_jaxpr(True, jaxpr.jaxpr, symbolic_jaxpr_literals, symbolic_mock_input)\n",
    "# assert the dimensions of eval_hard_output and eval_symbolic_output are the same\n",
    "eval_hard_output = numpy.array(eval_hard_output)\n",
    "print(\"eval_hard_output\", eval_hard_output)\n",
    "#print(\"type of eval_hard_output = \", type(eval_hard_output))\n",
    "#print(\"eval_symbolic_output:\", eval_symbolic_output)\n",
    "#print(\"type of eval_symbolic_output = \", type(eval_symbolic_output))\n",
    "#print(\"shape of eval_hard_output = \", eval_hard_output.shape)\n",
    "#print(\"shape of eval_symbolic_output = \", eval_symbolic_output.shape)\n",
    "assert numpy.array_equal(eval_hard_output.shape, eval_symbolic_output.shape)\n",
    "print(\"SUCCESS: dimensions of non-standard evaluation and standard evaluation of jaxpr are identical.\")\n",
    "# assert the values of eval_hard_output and eval_symbolic_output are the same\n",
    "reduced_eval_symbolic_output = symbolic_primitives.symbolic_eval(eval_symbolic_output)\n",
    "print(\"reduced_eval_symbolic_output:\", reduced_eval_symbolic_output)\n",
    "assert numpy.array_equal(eval_hard_output, reduced_eval_symbolic_output)\n",
    "print(\"SUCCESS: values of symbolic evaluation and standard evaluation of jaxpr are identical.\")\n",
    "\n"
   ]
  }
 ],
 "metadata": {
  "kernelspec": {
   "display_name": "Python 3.10.6 ('base')",
   "language": "python",
   "name": "python3"
  },
  "language_info": {
   "codemirror_mode": {
    "name": "ipython",
    "version": 3
   },
   "file_extension": ".py",
   "mimetype": "text/x-python",
   "name": "python",
   "nbconvert_exporter": "python",
   "pygments_lexer": "ipython3",
   "version": "3.10.8"
  },
  "orig_nbformat": 4,
  "vscode": {
   "interpreter": {
    "hash": "d4d1e4263499bec80672ea0156c357c1ee493ec2b1c70f0acce89fc37c4a6abe"
   }
  }
 },
 "nbformat": 4,
 "nbformat_minor": 2
}
