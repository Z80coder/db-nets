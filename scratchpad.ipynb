{
 "cells": [
  {
   "cell_type": "code",
   "execution_count": 1,
   "metadata": {},
   "outputs": [
    {
     "name": "stderr",
     "output_type": "stream",
     "text": [
      "2022-11-22 10:58:15.530446: W tensorflow/compiler/xla/stream_executor/platform/default/dso_loader.cc:64] Could not load dynamic library 'libnvinfer.so.7'; dlerror: libnvinfer.so.7: cannot open shared object file: No such file or directory\n",
      "2022-11-22 10:58:15.530572: W tensorflow/compiler/xla/stream_executor/platform/default/dso_loader.cc:64] Could not load dynamic library 'libnvinfer_plugin.so.7'; dlerror: libnvinfer_plugin.so.7: cannot open shared object file: No such file or directory\n",
      "2022-11-22 10:58:15.530588: W tensorflow/compiler/tf2tensorrt/utils/py_utils.cc:38] TF-TRT Warning: Cannot dlopen some TensorRT libraries. If you would like to use Nvidia GPU with TensorRT, please make sure the missing libraries mentioned above are installed properly.\n"
     ]
    }
   ],
   "source": [
    "import jax\n",
    "from neurallogic import hard_not, hard_and, harden, neural_logic_net, harden_layer, primitives\n",
    "from tests import test_mnist"
   ]
  },
  {
   "cell_type": "code",
   "execution_count": 3,
   "metadata": {},
   "outputs": [],
   "source": [
    "soft, hard, symbolic = neural_logic_net.net(test_mnist.nln)"
   ]
  },
  {
   "cell_type": "code",
   "execution_count": 9,
   "metadata": {},
   "outputs": [
    {
     "name": "stderr",
     "output_type": "stream",
     "text": [
      "/workspaces/neural-logic/neurallogic/hard_or.py:95: UserWarning: Explicitly requested dtype <class 'jax.numpy.float64'> requested in asarray is not available, and will be truncated to dtype float32. To enable more dtypes, set the jax_enable_x64 configuration option or the JAX_ENABLE_X64 shell environment variable. See https://github.com/google/jax#current-gotchas for more.\n",
      "  x = jax.numpy.asarray(x, self.dtype)\n",
      "/workspaces/neural-logic/neurallogic/hard_not.py:73: UserWarning: Explicitly requested dtype <class 'jax.numpy.float64'> requested in asarray is not available, and will be truncated to dtype float32. To enable more dtypes, set the jax_enable_x64 configuration option or the JAX_ENABLE_X64 shell environment variable. See https://github.com/google/jax#current-gotchas for more.\n",
      "  x = jax.numpy.asarray(x, self.dtype)\n"
     ]
    },
    {
     "data": {
      "text/plain": [
       "FrozenDict({\n",
       "    params: {\n",
       "        HardNotLayer_0: {\n",
       "            weights: DeviceArray([[ True,  True, False, ..., False, False, False],\n",
       "                         [ True,  True,  True, ..., False,  True, False],\n",
       "                         [ True,  True,  True, ...,  True,  True, False],\n",
       "                         ...,\n",
       "                         [ True, False, False, ..., False, False,  True],\n",
       "                         [False,  True, False, ...,  True, False, False],\n",
       "                         [False, False, False, ...,  True,  True,  True]], dtype=bool),\n",
       "        },\n",
       "        HardOrLayer_0: {\n",
       "            weights: DeviceArray([[ True, False, False, ..., False, False, False],\n",
       "                         [ True,  True,  True, ..., False, False,  True],\n",
       "                         [False, False,  True, ..., False,  True,  True],\n",
       "                         ...,\n",
       "                         [False,  True, False, ..., False,  True, False],\n",
       "                         [False,  True, False, ..., False, False, False],\n",
       "                         [False,  True,  True, ...,  True,  True, False]], dtype=bool),\n",
       "        },\n",
       "    },\n",
       "})"
      ]
     },
     "execution_count": 9,
     "metadata": {},
     "output_type": "execute_result"
    }
   ],
   "source": [
    "mock_input = jax.numpy.ones([28, 28])\n",
    "rng = jax.random.PRNGKey(0)\n",
    "soft_weights = soft.init(rng, mock_input)\n",
    "hard_weights = harden.hard_weights(soft_weights)\n",
    "hard_weights"
   ]
  },
  {
   "cell_type": "code",
   "execution_count": 10,
   "metadata": {},
   "outputs": [
    {
     "data": {
      "text/plain": [
       "DeviceArray(2005.0854, dtype=float32)"
      ]
     },
     "execution_count": 10,
     "metadata": {},
     "output_type": "execute_result"
    }
   ],
   "source": [
    "soft.apply(soft_weights, mock_input)"
   ]
  },
  {
   "cell_type": "code",
   "execution_count": 12,
   "metadata": {},
   "outputs": [
    {
     "data": {
      "text/plain": [
       "DeviceArray(2007, dtype=int32)"
      ]
     },
     "execution_count": 12,
     "metadata": {},
     "output_type": "execute_result"
    }
   ],
   "source": [
    "hard.apply(hard_weights, harden.harden(mock_input))"
   ]
  },
  {
   "cell_type": "code",
   "execution_count": 17,
   "metadata": {},
   "outputs": [
    {
     "data": {
      "text/plain": [
       "2007"
      ]
     },
     "execution_count": 17,
     "metadata": {},
     "output_type": "execute_result"
    }
   ],
   "source": [
    "symbolic_weights = harden.symbolic_weights(soft_weights)\n",
    "symbolic.apply(symbolic_weights, harden.harden(mock_input).tolist())"
   ]
  }
 ],
 "metadata": {
  "kernelspec": {
   "display_name": "Python 3.10.6 ('base')",
   "language": "python",
   "name": "python3"
  },
  "language_info": {
   "codemirror_mode": {
    "name": "ipython",
    "version": 3
   },
   "file_extension": ".py",
   "mimetype": "text/x-python",
   "name": "python",
   "nbconvert_exporter": "python",
   "pygments_lexer": "ipython3",
   "version": "3.10.6"
  },
  "orig_nbformat": 4,
  "vscode": {
   "interpreter": {
    "hash": "d4d1e4263499bec80672ea0156c357c1ee493ec2b1c70f0acce89fc37c4a6abe"
   }
  }
 },
 "nbformat": 4,
 "nbformat_minor": 2
}
