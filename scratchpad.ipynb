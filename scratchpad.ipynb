{
 "cells": [
  {
   "cell_type": "code",
   "execution_count": 1,
   "metadata": {},
   "outputs": [],
   "source": [
    "import jax\n",
    "from neurallogic import hard_not, harden, neural_logic_net"
   ]
  },
  {
   "cell_type": "code",
   "execution_count": 10,
   "metadata": {},
   "outputs": [],
   "source": [
    "def flat_net(type, x):\n",
    "    x = hard_not.NotLayer(4, type)(x)\n",
    "    x = jax.numpy.ravel(x)\n",
    "    x = hard_not.NotLayer(2, type)(x)\n",
    "    x = jax.numpy.ravel(x)\n",
    "    x = hard_not.NotLayer(4, type)(x)\n",
    "    x = jax.numpy.ravel(x)\n",
    "    return x"
   ]
  },
  {
   "cell_type": "code",
   "execution_count": 11,
   "metadata": {},
   "outputs": [
    {
     "data": {
      "text/plain": [
       "[DeviceArray([0.48080164, 0.39658576, 0.5320694 , 0.51536214, 0.5619204 ,\n",
       "              0.30508742, 0.5029401 , 0.685954  , 0.5672257 , 0.5206541 ,\n",
       "              0.60446036, 0.48701608, 0.47613105, 0.5176818 , 0.4839941 ,\n",
       "              0.4551876 , 0.5224478 , 0.5742898 , 0.5616013 , 0.51638556,\n",
       "              0.5011747 , 0.34902883, 0.5060354 , 0.56203556, 0.40240622,\n",
       "              0.46697253, 0.59992206, 0.4663074 , 0.48528445, 0.39515373,\n",
       "              0.5907415 , 0.4221444 , 0.45351985, 0.52726144, 0.4883067 ,\n",
       "              0.507507  , 0.555123  , 0.44402793, 0.5211253 , 0.27381402,\n",
       "              0.47999397, 0.50326383, 0.5105534 , 0.5080463 , 0.47823   ,\n",
       "              0.45292413, 0.5576238 , 0.5337143 , 0.48973474, 0.43131188,\n",
       "              0.51132596, 0.5119738 , 0.43114954, 0.6441589 , 0.50568795,\n",
       "              0.41583735, 0.47735217, 0.5173419 , 0.5833094 , 0.52892065,\n",
       "              0.49877602, 0.46379945, 0.3938836 , 0.5957556 ],            dtype=float32),\n",
       " DeviceArray([False, False,  True,  True,  True, False,  True,  True,\n",
       "               True,  True,  True, False, False,  True, False, False,\n",
       "               True,  True,  True,  True,  True, False,  True,  True,\n",
       "              False, False,  True, False, False, False,  True, False,\n",
       "              False,  True, False,  True,  True, False,  True, False,\n",
       "              False,  True,  True,  True, False, False,  True,  True,\n",
       "              False, False,  True,  True, False,  True,  True, False,\n",
       "              False,  True,  True,  True, False, False, False,  True],            dtype=bool)]"
      ]
     },
     "execution_count": 11,
     "metadata": {},
     "output_type": "execute_result"
    }
   ],
   "source": [
    "soft_net, hard_net = neural_logic_net.net(flat_net)\n",
    "soft_weights = soft_net.init(jax.random.PRNGKey(0), [1.0, 1.0])\n",
    "hard_weights = harden.harden_weights(soft_weights)\n",
    "[\n",
    "    soft_net.apply(soft_weights, [1.0, 1.0]),\n",
    "    hard_net.apply(hard_weights, jax.numpy.array([True, True]))\n",
    "]"
   ]
  }
 ],
 "metadata": {
  "kernelspec": {
   "display_name": "Python 3.10.6 ('base')",
   "language": "python",
   "name": "python3"
  },
  "language_info": {
   "codemirror_mode": {
    "name": "ipython",
    "version": 3
   },
   "file_extension": ".py",
   "mimetype": "text/x-python",
   "name": "python",
   "nbconvert_exporter": "python",
   "pygments_lexer": "ipython3",
   "version": "3.10.6"
  },
  "orig_nbformat": 4,
  "vscode": {
   "interpreter": {
    "hash": "d4d1e4263499bec80672ea0156c357c1ee493ec2b1c70f0acce89fc37c4a6abe"
   }
  }
 },
 "nbformat": 4,
 "nbformat_minor": 2
}
