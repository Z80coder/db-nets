{
 "cells": [
  {
   "cell_type": "code",
   "execution_count": 1,
   "metadata": {},
   "outputs": [],
   "source": [
    "import jax\n",
    "from neurallogic import hard_not, hard_and, harden, neural_logic_net"
   ]
  },
  {
   "cell_type": "code",
   "execution_count": 3,
   "metadata": {},
   "outputs": [
    {
     "ename": "TypeError",
     "evalue": "bad operand type for unary ~: 'list'",
     "output_type": "error",
     "traceback": [
      "\u001b[0;31m---------------------------------------------------------------------------\u001b[0m",
      "\u001b[0;31mTypeError\u001b[0m                                 Traceback (most recent call last)",
      "Cell \u001b[0;32mIn [3], line 3\u001b[0m\n\u001b[1;32m      1\u001b[0m x \u001b[39m=\u001b[39m [\u001b[39mTrue\u001b[39;00m, \u001b[39mFalse\u001b[39;00m]\n\u001b[1;32m      2\u001b[0m w \u001b[39m=\u001b[39m [[\u001b[39mTrue\u001b[39;00m, \u001b[39mTrue\u001b[39;00m], [\u001b[39mFalse\u001b[39;00m, \u001b[39mTrue\u001b[39;00m], [\u001b[39mTrue\u001b[39;00m, \u001b[39mFalse\u001b[39;00m], [\u001b[39mFalse\u001b[39;00m, \u001b[39mFalse\u001b[39;00m]]\n\u001b[0;32m----> 3\u001b[0m [hard_and\u001b[39m.\u001b[39msymbolic_and_include(wi, xi) \u001b[39mfor\u001b[39;00m wi \u001b[39min\u001b[39;00m w \u001b[39mfor\u001b[39;00m xi \u001b[39min\u001b[39;00m x]\n",
      "Cell \u001b[0;32mIn [3], line 3\u001b[0m, in \u001b[0;36m<listcomp>\u001b[0;34m(.0)\u001b[0m\n\u001b[1;32m      1\u001b[0m x \u001b[39m=\u001b[39m [\u001b[39mTrue\u001b[39;00m, \u001b[39mFalse\u001b[39;00m]\n\u001b[1;32m      2\u001b[0m w \u001b[39m=\u001b[39m [[\u001b[39mTrue\u001b[39;00m, \u001b[39mTrue\u001b[39;00m], [\u001b[39mFalse\u001b[39;00m, \u001b[39mTrue\u001b[39;00m], [\u001b[39mTrue\u001b[39;00m, \u001b[39mFalse\u001b[39;00m], [\u001b[39mFalse\u001b[39;00m, \u001b[39mFalse\u001b[39;00m]]\n\u001b[0;32m----> 3\u001b[0m [hard_and\u001b[39m.\u001b[39;49msymbolic_and_include(wi, xi) \u001b[39mfor\u001b[39;00m wi \u001b[39min\u001b[39;00m w \u001b[39mfor\u001b[39;00m xi \u001b[39min\u001b[39;00m x]\n",
      "File \u001b[0;32m/workspaces/neural-logic/neurallogic/hard_and.py:27\u001b[0m, in \u001b[0;36msymbolic_and_include\u001b[0;34m(w, x)\u001b[0m\n\u001b[1;32m     26\u001b[0m \u001b[39mdef\u001b[39;00m \u001b[39msymbolic_and_include\u001b[39m(w, x):\n\u001b[0;32m---> 27\u001b[0m     \u001b[39mreturn\u001b[39;00m \u001b[39meval\u001b[39;49m(\u001b[39mf\u001b[39;49m\u001b[39m\"\u001b[39;49m\u001b[39m{\u001b[39;49;00mx\u001b[39m}\u001b[39;49;00m\u001b[39m | ~\u001b[39;49m\u001b[39m{\u001b[39;49;00mw\u001b[39m}\u001b[39;49;00m\u001b[39m\"\u001b[39;49m)\n",
      "File \u001b[0;32m<string>:1\u001b[0m\n",
      "\u001b[0;31mTypeError\u001b[0m: bad operand type for unary ~: 'list'"
     ]
    }
   ],
   "source": [
    "x = [True, False]\n",
    "w = [[True, True], [False, True], [True, False], [False, False]]\n",
    "[[hard_and.symbolic_and_include(wj, xi) for wj, xi in zip(wi, x)] for wi in w]"
   ]
  }
 ],
 "metadata": {
  "kernelspec": {
   "display_name": "Python 3.10.6 ('base')",
   "language": "python",
   "name": "python3"
  },
  "language_info": {
   "codemirror_mode": {
    "name": "ipython",
    "version": 3
   },
   "file_extension": ".py",
   "mimetype": "text/x-python",
   "name": "python",
   "nbconvert_exporter": "python",
   "pygments_lexer": "ipython3",
   "version": "3.10.6"
  },
  "orig_nbformat": 4,
  "vscode": {
   "interpreter": {
    "hash": "d4d1e4263499bec80672ea0156c357c1ee493ec2b1c70f0acce89fc37c4a6abe"
   }
  }
 },
 "nbformat": 4,
 "nbformat_minor": 2
}
